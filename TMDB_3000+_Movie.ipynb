{
  "cells": [
    {
      "cell_type": "markdown",
      "metadata": {
        "id": "gkfF__-P5jMw"
      },
      "source": [
        "# TASK"
      ]
    },
    {
      "cell_type": "markdown",
      "metadata": {
        "id": "ihZ-wEskGgiv"
      },
      "source": [
        "## ANALISA"
      ]
    },
    {
      "cell_type": "markdown",
      "metadata": {
        "id": "lLgeKB-X5lev"
      },
      "source": [
        "**Tugas 1: Analisis Keuangan Film**\n",
        "1. Pertanyaan:\n",
        "*   Bagaimana distribusi budget dan revenue film dari tahun ke tahun?\n",
        "*   Apakah terdapat tren khusus dalam budget dan revenue berdasarkan tahun rilis?\n",
        "\n",
        "\n",
        "2. Analisis:\n",
        "\n",
        "*   Visualisasikan distribusi budget dan revenue untuk film-film dari berbagai tahun menggunakan grafik seperti histogram atau boxplot.\n",
        "*   Hitung statistik deskriptif seperti rata-rata, median, dan deviasi standar untuk budget dan revenue.\n",
        "*   Identifikasi tren atau pola yang signifikan dalam data"
      ]
    },
    {
      "cell_type": "markdown",
      "metadata": {
        "id": "jq4GWH1R7EsN"
      },
      "source": [
        "**Tugas 2: Analisis Genre dan Profitabilitas**\n",
        "1. Pertanyaan:\n",
        "*   Genre film mana yang paling menguntungkan?\n",
        "*   Apakah genre tertentu cenderung memiliki budget atau revenue yang lebih tinggi?\n",
        "\n",
        "\n",
        "2. Analisis:\n",
        "\n",
        "\n",
        "*   Hitung rata-rata profitabilitas (revenue - budget) untuk setiap genre.\n",
        "*   Visualisasikan perbandingan profitabilitas antar genre menggunakan bar chart atau boxplot.\n",
        "*   Analisis hubungan antara genre dan budget/revenue menggunakan analisis korelasi atau regresi sederhana."
      ]
    },
    {
      "cell_type": "markdown",
      "metadata": {
        "id": "sKsSlszHGj_-"
      },
      "source": [
        "## MACHINE LEARNING"
      ]
    },
    {
      "cell_type": "markdown",
      "metadata": {
        "id": "RPHmU_weGnEd"
      },
      "source": [
        "1. Dapatkah kita memprediksi revenue film berdasarkan budget, genre, dan runtime?\n"
      ]
    },
    {
      "cell_type": "markdown",
      "metadata": {
        "id": "q17Oirepe10I"
      },
      "source": [
        "# IMPORT LIBRARY DAN DATA"
      ]
    },
    {
      "cell_type": "markdown",
      "metadata": {
        "id": "iqbtYIPCeseW"
      },
      "source": [
        "## Import Library"
      ]
    },
    {
      "cell_type": "code",
      "execution_count": 5,
      "metadata": {
        "id": "FiIx3_NXep0m"
      },
      "outputs": [],
      "source": [
        "import pandas as pd #pengolahan data\n",
        "import numpy as np #pengolahan angka dan perhitungan\n",
        "import matplotlib.pyplot as plt # visualisasi data\n",
        "import seaborn as sns # visualisasi data\n",
        "import os #menangani file dan folder"
      ]
    },
    {
      "cell_type": "markdown",
      "metadata": {
        "id": "Lx-kHMkHexP2"
      },
      "source": [
        "## Import Data"
      ]
    },
    {
      "cell_type": "code",
      "execution_count": 6,
      "metadata": {
        "colab": {
          "base_uri": "https://localhost:8080/"
        },
        "id": "WE3ENkUgevtx",
        "outputId": "de550bc1-268f-426b-aa8c-55c5b82a2809"
      },
      "outputs": [],
      "source": [
        "# URL file raw di GitHub\n",
        "file_url = 'https://raw.githubusercontent.com/AZHayat/Analisa-TMDB-3000-Movie/main/Movies_dataset.csv'"
      ]
    },
    {
      "cell_type": "markdown",
      "metadata": {
        "id": "HCrSHg9lfU7b"
      },
      "source": [
        "# DATA EKSPLORATION"
      ]
    },
    {
      "cell_type": "code",
      "execution_count": 7,
      "metadata": {
        "colab": {
          "base_uri": "https://localhost:8080/",
          "height": 241
        },
        "id": "__fuJ6mDfcAO",
        "outputId": "a4679254-85de-4f7f-93ae-f2572e3f896a"
      },
      "outputs": [
        {
          "data": {
            "text/html": [
              "<div>\n",
              "<style scoped>\n",
              "    .dataframe tbody tr th:only-of-type {\n",
              "        vertical-align: middle;\n",
              "    }\n",
              "\n",
              "    .dataframe tbody tr th {\n",
              "        vertical-align: top;\n",
              "    }\n",
              "\n",
              "    .dataframe thead th {\n",
              "        text-align: right;\n",
              "    }\n",
              "</style>\n",
              "<table border=\"1\" class=\"dataframe\">\n",
              "  <thead>\n",
              "    <tr style=\"text-align: right;\">\n",
              "      <th></th>\n",
              "      <th>Movie_Name</th>\n",
              "      <th>Certification</th>\n",
              "      <th>Release_Date</th>\n",
              "      <th>Genres</th>\n",
              "      <th>Language</th>\n",
              "      <th>Budget</th>\n",
              "      <th>Revenue</th>\n",
              "      <th>Runtime</th>\n",
              "    </tr>\n",
              "  </thead>\n",
              "  <tbody>\n",
              "    <tr>\n",
              "      <th>0</th>\n",
              "      <td>Black Panther: Wakanda Forever</td>\n",
              "      <td>PG13</td>\n",
              "      <td>11/10/2022</td>\n",
              "      <td>['Action,', 'Adventure,', 'Science Fiction']</td>\n",
              "      <td>English</td>\n",
              "      <td>$250,000,000.00</td>\n",
              "      <td>$835,000,000.00</td>\n",
              "      <td>162.0</td>\n",
              "    </tr>\n",
              "    <tr>\n",
              "      <th>1</th>\n",
              "      <td>Puss in Boots: The Last Wish</td>\n",
              "      <td>PG</td>\n",
              "      <td>12/08/2022</td>\n",
              "      <td>['Animation,', 'Adventure,', 'Comedy,', 'Famil...</td>\n",
              "      <td>English</td>\n",
              "      <td>$90,000,000.00</td>\n",
              "      <td>$369,105,725.00</td>\n",
              "      <td>103.0</td>\n",
              "    </tr>\n",
              "    <tr>\n",
              "      <th>2</th>\n",
              "      <td>Shotgun Wedding</td>\n",
              "      <td>R</td>\n",
              "      <td>12/28/2022</td>\n",
              "      <td>['Action,', 'Romance,', 'Comedy']</td>\n",
              "      <td>English</td>\n",
              "      <td>-</td>\n",
              "      <td>$4,495,365.00</td>\n",
              "      <td>101.0</td>\n",
              "    </tr>\n",
              "    <tr>\n",
              "      <th>3</th>\n",
              "      <td>M3GAN</td>\n",
              "      <td>PG13</td>\n",
              "      <td>01/05/2023</td>\n",
              "      <td>['Science Fiction,', 'Horror,', 'Comedy']</td>\n",
              "      <td>English</td>\n",
              "      <td>$12,000,000.00</td>\n",
              "      <td>$158,000,000.00</td>\n",
              "      <td>102.0</td>\n",
              "    </tr>\n",
              "    <tr>\n",
              "      <th>4</th>\n",
              "      <td>Transfusion</td>\n",
              "      <td>MA15+</td>\n",
              "      <td>01/05/2023</td>\n",
              "      <td>['Crime,', 'Thriller,', 'Drama']</td>\n",
              "      <td>English</td>\n",
              "      <td>-</td>\n",
              "      <td>-</td>\n",
              "      <td>105.0</td>\n",
              "    </tr>\n",
              "  </tbody>\n",
              "</table>\n",
              "</div>"
            ],
            "text/plain": [
              "                       Movie_Name Certification Release_Date  \\\n",
              "0  Black Panther: Wakanda Forever          PG13   11/10/2022   \n",
              "1    Puss in Boots: The Last Wish            PG   12/08/2022   \n",
              "2                 Shotgun Wedding             R   12/28/2022   \n",
              "3                           M3GAN          PG13   01/05/2023   \n",
              "4                     Transfusion         MA15+   01/05/2023   \n",
              "\n",
              "                                              Genres Language  \\\n",
              "0       ['Action,', 'Adventure,', 'Science Fiction']  English   \n",
              "1  ['Animation,', 'Adventure,', 'Comedy,', 'Famil...  English   \n",
              "2                  ['Action,', 'Romance,', 'Comedy']  English   \n",
              "3          ['Science Fiction,', 'Horror,', 'Comedy']  English   \n",
              "4                   ['Crime,', 'Thriller,', 'Drama']  English   \n",
              "\n",
              "            Budget          Revenue  Runtime  \n",
              "0  $250,000,000.00  $835,000,000.00    162.0  \n",
              "1   $90,000,000.00  $369,105,725.00    103.0  \n",
              "2                -    $4,495,365.00    101.0  \n",
              "3   $12,000,000.00  $158,000,000.00    102.0  \n",
              "4                -                -    105.0  "
            ]
          },
          "execution_count": 7,
          "metadata": {},
          "output_type": "execute_result"
        }
      ],
      "source": [
        "movie = pd.read_csv(file_url)\n",
        "movie.head()"
      ]
    },
    {
      "cell_type": "code",
      "execution_count": 8,
      "metadata": {
        "colab": {
          "base_uri": "https://localhost:8080/"
        },
        "id": "KVD6TQ3nftyl",
        "outputId": "ea37c99a-70c9-42c4-8bc2-97111532e0d8"
      },
      "outputs": [
        {
          "name": "stdout",
          "output_type": "stream",
          "text": [
            "<class 'pandas.core.frame.DataFrame'>\n",
            "RangeIndex: 3966 entries, 0 to 3965\n",
            "Data columns (total 8 columns):\n",
            " #   Column         Non-Null Count  Dtype  \n",
            "---  ------         --------------  -----  \n",
            " 0   Movie_Name     3966 non-null   object \n",
            " 1   Certification  3697 non-null   object \n",
            " 2   Release_Date   3966 non-null   object \n",
            " 3   Genres         3966 non-null   object \n",
            " 4   Language       3966 non-null   object \n",
            " 5   Budget         3966 non-null   object \n",
            " 6   Revenue        3966 non-null   object \n",
            " 7   Runtime        3702 non-null   float64\n",
            "dtypes: float64(1), object(7)\n",
            "memory usage: 248.0+ KB\n"
          ]
        }
      ],
      "source": [
        "movie.info()"
      ]
    },
    {
      "cell_type": "code",
      "execution_count": 9,
      "metadata": {
        "colab": {
          "base_uri": "https://localhost:8080/"
        },
        "id": "JlXW9dbdfwRf",
        "outputId": "a2956a59-851a-404f-9c53-f626405f9491"
      },
      "outputs": [
        {
          "data": {
            "text/plain": [
              "Movie_Name         0\n",
              "Certification    269\n",
              "Release_Date       0\n",
              "Genres             0\n",
              "Language           0\n",
              "Budget             0\n",
              "Revenue            0\n",
              "Runtime          264\n",
              "dtype: int64"
            ]
          },
          "execution_count": 9,
          "metadata": {},
          "output_type": "execute_result"
        }
      ],
      "source": [
        "movie.isnull().sum()"
      ]
    },
    {
      "cell_type": "code",
      "execution_count": 10,
      "metadata": {
        "colab": {
          "base_uri": "https://localhost:8080/"
        },
        "id": "0GFIt9TuYM-J",
        "outputId": "629bd012-082f-44c7-fe81-d593130bdfee"
      },
      "outputs": [
        {
          "data": {
            "text/plain": [
              "count    3702.000000\n",
              "mean      105.704754\n",
              "std        21.589413\n",
              "min        61.000000\n",
              "25%        91.000000\n",
              "50%       102.000000\n",
              "75%       116.000000\n",
              "max       248.000000\n",
              "Name: Runtime, dtype: float64"
            ]
          },
          "execution_count": 10,
          "metadata": {},
          "output_type": "execute_result"
        }
      ],
      "source": [
        "movie['Runtime'].describe()"
      ]
    },
    {
      "cell_type": "code",
      "execution_count": 11,
      "metadata": {
        "colab": {
          "base_uri": "https://localhost:8080/",
          "height": 143
        },
        "id": "Ef-JotZhYjbF",
        "outputId": "eb236782-63b9-4715-b0ba-34a5bba7d166"
      },
      "outputs": [
        {
          "name": "stderr",
          "output_type": "stream",
          "text": [
            "C:\\Users\\ASUS\\AppData\\Local\\Temp\\ipykernel_3956\\1537562067.py:6: FutureWarning: The default of observed=False is deprecated and will be changed to True in a future version of pandas. Pass observed=False to retain current behavior or observed=True to adopt the future default and silence this warning.\n",
            "  grouping_movie = movies.groupby('group_runtime').size().reset_index(name='count')\n"
          ]
        },
        {
          "data": {
            "text/html": [
              "<div>\n",
              "<style scoped>\n",
              "    .dataframe tbody tr th:only-of-type {\n",
              "        vertical-align: middle;\n",
              "    }\n",
              "\n",
              "    .dataframe tbody tr th {\n",
              "        vertical-align: top;\n",
              "    }\n",
              "\n",
              "    .dataframe thead th {\n",
              "        text-align: right;\n",
              "    }\n",
              "</style>\n",
              "<table border=\"1\" class=\"dataframe\">\n",
              "  <thead>\n",
              "    <tr style=\"text-align: right;\">\n",
              "      <th></th>\n",
              "      <th>group_runtime</th>\n",
              "      <th>count</th>\n",
              "    </tr>\n",
              "  </thead>\n",
              "  <tbody>\n",
              "    <tr>\n",
              "      <th>0</th>\n",
              "      <td>pendek</td>\n",
              "      <td>843</td>\n",
              "    </tr>\n",
              "    <tr>\n",
              "      <th>1</th>\n",
              "      <td>cukup</td>\n",
              "      <td>2087</td>\n",
              "    </tr>\n",
              "    <tr>\n",
              "      <th>2</th>\n",
              "      <td>lama</td>\n",
              "      <td>772</td>\n",
              "    </tr>\n",
              "  </tbody>\n",
              "</table>\n",
              "</div>"
            ],
            "text/plain": [
              "  group_runtime  count\n",
              "0        pendek    843\n",
              "1         cukup   2087\n",
              "2          lama    772"
            ]
          },
          "execution_count": 11,
          "metadata": {},
          "output_type": "execute_result"
        }
      ],
      "source": [
        "# Membuat kategori dekade\n",
        "bins = [0, 90, 120, 250]\n",
        "labels = ['pendek', 'cukup', 'lama']\n",
        "movies = movie.copy()\n",
        "movies['group_runtime'] = pd.cut(movie['Runtime'], bins=bins, labels=labels, right=True)\n",
        "grouping_movie = movies.groupby('group_runtime').size().reset_index(name='count')\n",
        "grouping_movie"
      ]
    },
    {
      "cell_type": "code",
      "execution_count": 12,
      "metadata": {
        "colab": {
          "base_uri": "https://localhost:8080/",
          "height": 597
        },
        "id": "bUn65n6Yac3y",
        "outputId": "7244e747-b171-4124-a874-3cfc6c84c0f9"
      },
      "outputs": [
        {
          "data": {
            "image/png": "[encoded data removed]",
            "text/plain": [
              "<Figure size 1000x600 with 1 Axes>"
            ]
          },
          "metadata": {},
          "output_type": "display_data"
        }
      ],
      "source": [
        "# Membuat bar plot\n",
        "plt.figure(figsize=(10, 6))\n",
        "plt.bar(grouping_movie['group_runtime'], grouping_movie['count'], color='skyblue')\n",
        "plt.xlabel('Runtime')\n",
        "plt.ylabel('Total Count')\n",
        "plt.title('Grouping Film ')\n",
        "plt.xticks(rotation=45)  # Memiringkan label sumbu X dengan sudut 45 derajat\n",
        "plt.grid(axis='y', linestyle='--', alpha=0.7)  # Menambahkan gridlines horizontal\n",
        "\n",
        "plt.show()"
      ]
    },
    {
      "cell_type": "code",
      "execution_count": 13,
      "metadata": {
        "id": "56dtBhGsVNB0"
      },
      "outputs": [],
      "source": [
        "movie['Release_Date'] = pd.to_datetime(movie['Release_Date'])\n",
        "movie['year'] = movie['Release_Date'].dt.year"
      ]
    },
    {
      "cell_type": "code",
      "execution_count": 14,
      "metadata": {
        "colab": {
          "base_uri": "https://localhost:8080/",
          "height": 423
        },
        "id": "zZe7L2Q2Vd-L",
        "outputId": "b90072b9-be07-4b9b-83f5-3a33be810d95"
      },
      "outputs": [
        {
          "data": {
            "text/html": [
              "<div>\n",
              "<style scoped>\n",
              "    .dataframe tbody tr th:only-of-type {\n",
              "        vertical-align: middle;\n",
              "    }\n",
              "\n",
              "    .dataframe tbody tr th {\n",
              "        vertical-align: top;\n",
              "    }\n",
              "\n",
              "    .dataframe thead th {\n",
              "        text-align: right;\n",
              "    }\n",
              "</style>\n",
              "<table border=\"1\" class=\"dataframe\">\n",
              "  <thead>\n",
              "    <tr style=\"text-align: right;\">\n",
              "      <th></th>\n",
              "      <th>year</th>\n",
              "      <th>count</th>\n",
              "    </tr>\n",
              "  </thead>\n",
              "  <tbody>\n",
              "    <tr>\n",
              "      <th>0</th>\n",
              "      <td>1932</td>\n",
              "      <td>1</td>\n",
              "    </tr>\n",
              "    <tr>\n",
              "      <th>1</th>\n",
              "      <td>1933</td>\n",
              "      <td>1</td>\n",
              "    </tr>\n",
              "    <tr>\n",
              "      <th>2</th>\n",
              "      <td>1939</td>\n",
              "      <td>2</td>\n",
              "    </tr>\n",
              "    <tr>\n",
              "      <th>3</th>\n",
              "      <td>1940</td>\n",
              "      <td>1</td>\n",
              "    </tr>\n",
              "    <tr>\n",
              "      <th>4</th>\n",
              "      <td>1941</td>\n",
              "      <td>1</td>\n",
              "    </tr>\n",
              "    <tr>\n",
              "      <th>...</th>\n",
              "      <td>...</td>\n",
              "      <td>...</td>\n",
              "    </tr>\n",
              "    <tr>\n",
              "      <th>77</th>\n",
              "      <td>2019</td>\n",
              "      <td>170</td>\n",
              "    </tr>\n",
              "    <tr>\n",
              "      <th>78</th>\n",
              "      <td>2020</td>\n",
              "      <td>198</td>\n",
              "    </tr>\n",
              "    <tr>\n",
              "      <th>79</th>\n",
              "      <td>2021</td>\n",
              "      <td>315</td>\n",
              "    </tr>\n",
              "    <tr>\n",
              "      <th>80</th>\n",
              "      <td>2022</td>\n",
              "      <td>643</td>\n",
              "    </tr>\n",
              "    <tr>\n",
              "      <th>81</th>\n",
              "      <td>2023</td>\n",
              "      <td>159</td>\n",
              "    </tr>\n",
              "  </tbody>\n",
              "</table>\n",
              "<p>82 rows × 2 columns</p>\n",
              "</div>"
            ],
            "text/plain": [
              "    year  count\n",
              "0   1932      1\n",
              "1   1933      1\n",
              "2   1939      2\n",
              "3   1940      1\n",
              "4   1941      1\n",
              "..   ...    ...\n",
              "77  2019    170\n",
              "78  2020    198\n",
              "79  2021    315\n",
              "80  2022    643\n",
              "81  2023    159\n",
              "\n",
              "[82 rows x 2 columns]"
            ]
          },
          "execution_count": 14,
          "metadata": {},
          "output_type": "execute_result"
        }
      ],
      "source": [
        "yearly_movie = movie.groupby('year').size().reset_index(name='count')\n",
        "yearly_movie"
      ]
    },
    {
      "cell_type": "code",
      "execution_count": 15,
      "metadata": {
        "colab": {
          "base_uri": "https://localhost:8080/",
          "height": 489
        },
        "id": "HHs_EQtjcxVJ",
        "outputId": "6039e8e2-62bc-4512-ec45-98175591656e"
      },
      "outputs": [
        {
          "data": {
            "text/plain": [
              "Text(0, 0.5, 'Jumlah')"
            ]
          },
          "execution_count": 15,
          "metadata": {},
          "output_type": "execute_result"
        },
        {
          "data": {
            "image/png": "[encoded data removed]",
            "text/plain": [
              "<Figure size 640x480 with 1 Axes>"
            ]
          },
          "metadata": {},
          "output_type": "display_data"
        }
      ],
      "source": [
        "# Membuat scatter plot\n",
        "sns.scatterplot(x='year', y='count', data=yearly_movie)\n",
        "\n",
        "# Menampilkan seluruh tahun pada label X dengan gap 10 tahun\n",
        "years_for_ticks = yearly_movie[yearly_movie['year'] % 10 == 0]['year']\n",
        "plt.xticks(years_for_ticks)\n",
        "\n",
        "# Menambahkan judul dan label\n",
        "plt.title('Scatter Plot dari Jumlah Movie Setiap Tahun')\n",
        "plt.xlabel('Tahun')\n",
        "plt.ylabel('Jumlah')"
      ]
    },
    {
      "cell_type": "code",
      "execution_count": 16,
      "metadata": {
        "colab": {
          "base_uri": "https://localhost:8080/",
          "height": 718
        },
        "id": "EcBMye8hXSsc",
        "outputId": "53d9fd82-9596-4c7c-d556-8109b7ca9a01"
      },
      "outputs": [
        {
          "name": "stdout",
          "output_type": "stream",
          "text": [
            "      decade  count\n",
            "0      <1990    286\n",
            "1  1990-1999    307\n",
            "2  2000-2009    728\n",
            "3  2010-2019   1330\n",
            "4  2020-2029   1315\n"
          ]
        },
        {
          "name": "stderr",
          "output_type": "stream",
          "text": [
            "C:\\Users\\ASUS\\AppData\\Local\\Temp\\ipykernel_3956\\2410639153.py:7: FutureWarning: The default of observed=False is deprecated and will be changed to True in a future version of pandas. Pass observed=False to retain current behavior or observed=True to adopt the future default and silence this warning.\n",
            "  decade_summary = yearly_movie.groupby('decade')['count'].sum().reset_index()\n"
          ]
        },
        {
          "data": {
            "image/png": "[encoded data removed]",
            "text/plain": [
              "<Figure size 1000x600 with 1 Axes>"
            ]
          },
          "metadata": {},
          "output_type": "display_data"
        }
      ],
      "source": [
        "# Membuat kategori dekade\n",
        "bins = [0, 1989, 1999, 2009, 2019, 2029]\n",
        "labels = ['<1990', '1990-1999', '2000-2009', '2010-2019', '2020-2029']\n",
        "yearly_movie['decade'] = pd.cut(yearly_movie['year'], bins=bins, labels=labels, right=True)\n",
        "\n",
        "# Mengelompokkan data berdasarkan dekade dan menjumlahkan nilai count\n",
        "decade_summary = yearly_movie.groupby('decade')['count'].sum().reset_index()\n",
        "\n",
        "# Menampilkan hasil\n",
        "print(decade_summary)\n",
        "\n",
        "# Membuat bar plot\n",
        "plt.figure(figsize=(10, 6))\n",
        "plt.bar(decade_summary['decade'], decade_summary['count'], color='skyblue')\n",
        "plt.xlabel('Decade')\n",
        "plt.ylabel('Total Count')\n",
        "plt.title('Jumlah Film per Dekade')\n",
        "plt.xticks(rotation=45)  # Memiringkan label sumbu X dengan sudut 45 derajat\n",
        "plt.grid(axis='y', linestyle='--', alpha=0.7)  # Menambahkan gridlines horizontal\n",
        "\n",
        "plt.show()"
      ]
    },
    {
      "cell_type": "markdown",
      "metadata": {
        "id": "WXpLZJd0jAQg"
      },
      "source": [
        "# DATA PREPROCESSION"
      ]
    },
    {
      "cell_type": "code",
      "execution_count": 17,
      "metadata": {
        "colab": {
          "base_uri": "https://localhost:8080/"
        },
        "id": "Mlgzp4IFjEJo",
        "outputId": "82726d94-d908-452e-e74e-e6c009415d8f"
      },
      "outputs": [
        {
          "name": "stdout",
          "output_type": "stream",
          "text": [
            "<class 'pandas.core.frame.DataFrame'>\n",
            "RangeIndex: 3966 entries, 0 to 3965\n",
            "Data columns (total 9 columns):\n",
            " #   Column         Non-Null Count  Dtype         \n",
            "---  ------         --------------  -----         \n",
            " 0   Movie_Name     3966 non-null   object        \n",
            " 1   Certification  3697 non-null   object        \n",
            " 2   Release_Date   3966 non-null   datetime64[ns]\n",
            " 3   Genres         3966 non-null   object        \n",
            " 4   Language       3966 non-null   object        \n",
            " 5   Budget         3966 non-null   object        \n",
            " 6   Revenue        3966 non-null   object        \n",
            " 7   Runtime        3702 non-null   float64       \n",
            " 8   year           3966 non-null   int32         \n",
            "dtypes: datetime64[ns](1), float64(1), int32(1), object(6)\n",
            "memory usage: 263.5+ KB\n"
          ]
        }
      ],
      "source": [
        "movie.info()"
      ]
    },
    {
      "cell_type": "code",
      "execution_count": 18,
      "metadata": {
        "colab": {
          "base_uri": "https://localhost:8080/",
          "height": 258
        },
        "id": "_gn1YjAYwz6a",
        "outputId": "4a7f9e40-e0e8-47bc-b672-5e72375bad66"
      },
      "outputs": [
        {
          "data": {
            "text/html": [
              "<div>\n",
              "<style scoped>\n",
              "    .dataframe tbody tr th:only-of-type {\n",
              "        vertical-align: middle;\n",
              "    }\n",
              "\n",
              "    .dataframe tbody tr th {\n",
              "        vertical-align: top;\n",
              "    }\n",
              "\n",
              "    .dataframe thead th {\n",
              "        text-align: right;\n",
              "    }\n",
              "</style>\n",
              "<table border=\"1\" class=\"dataframe\">\n",
              "  <thead>\n",
              "    <tr style=\"text-align: right;\">\n",
              "      <th></th>\n",
              "      <th>Movie_Name</th>\n",
              "      <th>Certification</th>\n",
              "      <th>Release_Date</th>\n",
              "      <th>Genres</th>\n",
              "      <th>Language</th>\n",
              "      <th>Budget</th>\n",
              "      <th>Revenue</th>\n",
              "      <th>Runtime</th>\n",
              "      <th>year</th>\n",
              "    </tr>\n",
              "  </thead>\n",
              "  <tbody>\n",
              "    <tr>\n",
              "      <th>0</th>\n",
              "      <td>Black Panther: Wakanda Forever</td>\n",
              "      <td>PG13</td>\n",
              "      <td>2022-11-10</td>\n",
              "      <td>['Action,', 'Adventure,', 'Science Fiction']</td>\n",
              "      <td>English</td>\n",
              "      <td>$250,000,000.00</td>\n",
              "      <td>$835,000,000.00</td>\n",
              "      <td>162.0</td>\n",
              "      <td>2022</td>\n",
              "    </tr>\n",
              "    <tr>\n",
              "      <th>1</th>\n",
              "      <td>Puss in Boots: The Last Wish</td>\n",
              "      <td>PG</td>\n",
              "      <td>2022-12-08</td>\n",
              "      <td>['Animation,', 'Adventure,', 'Comedy,', 'Famil...</td>\n",
              "      <td>English</td>\n",
              "      <td>$90,000,000.00</td>\n",
              "      <td>$369,105,725.00</td>\n",
              "      <td>103.0</td>\n",
              "      <td>2022</td>\n",
              "    </tr>\n",
              "    <tr>\n",
              "      <th>2</th>\n",
              "      <td>Shotgun Wedding</td>\n",
              "      <td>R</td>\n",
              "      <td>2022-12-28</td>\n",
              "      <td>['Action,', 'Romance,', 'Comedy']</td>\n",
              "      <td>English</td>\n",
              "      <td>-</td>\n",
              "      <td>$4,495,365.00</td>\n",
              "      <td>101.0</td>\n",
              "      <td>2022</td>\n",
              "    </tr>\n",
              "    <tr>\n",
              "      <th>3</th>\n",
              "      <td>M3GAN</td>\n",
              "      <td>PG13</td>\n",
              "      <td>2023-01-05</td>\n",
              "      <td>['Science Fiction,', 'Horror,', 'Comedy']</td>\n",
              "      <td>English</td>\n",
              "      <td>$12,000,000.00</td>\n",
              "      <td>$158,000,000.00</td>\n",
              "      <td>102.0</td>\n",
              "      <td>2023</td>\n",
              "    </tr>\n",
              "    <tr>\n",
              "      <th>4</th>\n",
              "      <td>Transfusion</td>\n",
              "      <td>MA15+</td>\n",
              "      <td>2023-01-05</td>\n",
              "      <td>['Crime,', 'Thriller,', 'Drama']</td>\n",
              "      <td>English</td>\n",
              "      <td>-</td>\n",
              "      <td>-</td>\n",
              "      <td>105.0</td>\n",
              "      <td>2023</td>\n",
              "    </tr>\n",
              "  </tbody>\n",
              "</table>\n",
              "</div>"
            ],
            "text/plain": [
              "                       Movie_Name Certification Release_Date  \\\n",
              "0  Black Panther: Wakanda Forever          PG13   2022-11-10   \n",
              "1    Puss in Boots: The Last Wish            PG   2022-12-08   \n",
              "2                 Shotgun Wedding             R   2022-12-28   \n",
              "3                           M3GAN          PG13   2023-01-05   \n",
              "4                     Transfusion         MA15+   2023-01-05   \n",
              "\n",
              "                                              Genres Language  \\\n",
              "0       ['Action,', 'Adventure,', 'Science Fiction']  English   \n",
              "1  ['Animation,', 'Adventure,', 'Comedy,', 'Famil...  English   \n",
              "2                  ['Action,', 'Romance,', 'Comedy']  English   \n",
              "3          ['Science Fiction,', 'Horror,', 'Comedy']  English   \n",
              "4                   ['Crime,', 'Thriller,', 'Drama']  English   \n",
              "\n",
              "            Budget          Revenue  Runtime  year  \n",
              "0  $250,000,000.00  $835,000,000.00    162.0  2022  \n",
              "1   $90,000,000.00  $369,105,725.00    103.0  2022  \n",
              "2                -    $4,495,365.00    101.0  2022  \n",
              "3   $12,000,000.00  $158,000,000.00    102.0  2023  \n",
              "4                -                -    105.0  2023  "
            ]
          },
          "execution_count": 18,
          "metadata": {},
          "output_type": "execute_result"
        }
      ],
      "source": [
        "movie.head()"
      ]
    },
    {
      "cell_type": "markdown",
      "metadata": {
        "id": "5CuVOWGZoHQH"
      },
      "source": [
        "### Memperbaiki kolom Budget dan Revenue serta menambahkan kolom Profit"
      ]
    },
    {
      "cell_type": "code",
      "execution_count": 19,
      "metadata": {
        "id": "E6i-_4ivw6yk"
      },
      "outputs": [],
      "source": [
        "# Menghapus semua karakter yang bukan angka, menyisakan angka saja\n",
        "movie['Budget'] = movie['Budget'].str.replace(r'[^\\d]', '', regex=True)\n",
        "\n",
        "# Mengonversi kolom ke tipe numerik (opsional, jika Anda ingin angka dalam format numerik)\n",
        "movie['Budget'] = pd.to_numeric(movie['Budget'], errors='coerce')"
      ]
    },
    {
      "cell_type": "code",
      "execution_count": 20,
      "metadata": {
        "id": "Udboa6nu4gTN"
      },
      "outputs": [],
      "source": [
        "# Menghapus semua karakter yang bukan angka, menyisakan angka saja\n",
        "movie['Revenue'] = movie['Revenue'].str.replace(r'[^\\d]', '', regex=True)\n",
        "\n",
        "# Mengonversi kolom ke tipe numerik (opsional, jika Anda ingin angka dalam format numerik)\n",
        "movie['Revenue'] = pd.to_numeric(movie['Revenue'], errors='coerce')"
      ]
    },
    {
      "cell_type": "code",
      "execution_count": 21,
      "metadata": {
        "colab": {
          "base_uri": "https://localhost:8080/",
          "height": 293
        },
        "id": "n2m3p5zzp_dW",
        "outputId": "578d5cfd-6fcd-472b-d33a-22374b44cf7e"
      },
      "outputs": [
        {
          "data": {
            "text/html": [
              "<div>\n",
              "<style scoped>\n",
              "    .dataframe tbody tr th:only-of-type {\n",
              "        vertical-align: middle;\n",
              "    }\n",
              "\n",
              "    .dataframe tbody tr th {\n",
              "        vertical-align: top;\n",
              "    }\n",
              "\n",
              "    .dataframe thead th {\n",
              "        text-align: right;\n",
              "    }\n",
              "</style>\n",
              "<table border=\"1\" class=\"dataframe\">\n",
              "  <thead>\n",
              "    <tr style=\"text-align: right;\">\n",
              "      <th></th>\n",
              "      <th>Movie_Name</th>\n",
              "      <th>Certification</th>\n",
              "      <th>Release_Date</th>\n",
              "      <th>Genres</th>\n",
              "      <th>Language</th>\n",
              "      <th>Budget</th>\n",
              "      <th>Revenue</th>\n",
              "      <th>Runtime</th>\n",
              "      <th>year</th>\n",
              "      <th>profit</th>\n",
              "    </tr>\n",
              "  </thead>\n",
              "  <tbody>\n",
              "    <tr>\n",
              "      <th>0</th>\n",
              "      <td>Black Panther: Wakanda Forever</td>\n",
              "      <td>PG13</td>\n",
              "      <td>2022-11-10</td>\n",
              "      <td>['Action,', 'Adventure,', 'Science Fiction']</td>\n",
              "      <td>English</td>\n",
              "      <td>2.500000e+10</td>\n",
              "      <td>8.350000e+10</td>\n",
              "      <td>162.0</td>\n",
              "      <td>2022</td>\n",
              "      <td>5.850000e+10</td>\n",
              "    </tr>\n",
              "    <tr>\n",
              "      <th>1</th>\n",
              "      <td>Puss in Boots: The Last Wish</td>\n",
              "      <td>PG</td>\n",
              "      <td>2022-12-08</td>\n",
              "      <td>['Animation,', 'Adventure,', 'Comedy,', 'Famil...</td>\n",
              "      <td>English</td>\n",
              "      <td>9.000000e+09</td>\n",
              "      <td>3.691057e+10</td>\n",
              "      <td>103.0</td>\n",
              "      <td>2022</td>\n",
              "      <td>2.791057e+10</td>\n",
              "    </tr>\n",
              "    <tr>\n",
              "      <th>2</th>\n",
              "      <td>Shotgun Wedding</td>\n",
              "      <td>R</td>\n",
              "      <td>2022-12-28</td>\n",
              "      <td>['Action,', 'Romance,', 'Comedy']</td>\n",
              "      <td>English</td>\n",
              "      <td>NaN</td>\n",
              "      <td>4.495365e+08</td>\n",
              "      <td>101.0</td>\n",
              "      <td>2022</td>\n",
              "      <td>NaN</td>\n",
              "    </tr>\n",
              "    <tr>\n",
              "      <th>3</th>\n",
              "      <td>M3GAN</td>\n",
              "      <td>PG13</td>\n",
              "      <td>2023-01-05</td>\n",
              "      <td>['Science Fiction,', 'Horror,', 'Comedy']</td>\n",
              "      <td>English</td>\n",
              "      <td>1.200000e+09</td>\n",
              "      <td>1.580000e+10</td>\n",
              "      <td>102.0</td>\n",
              "      <td>2023</td>\n",
              "      <td>1.460000e+10</td>\n",
              "    </tr>\n",
              "    <tr>\n",
              "      <th>4</th>\n",
              "      <td>Transfusion</td>\n",
              "      <td>MA15+</td>\n",
              "      <td>2023-01-05</td>\n",
              "      <td>['Crime,', 'Thriller,', 'Drama']</td>\n",
              "      <td>English</td>\n",
              "      <td>NaN</td>\n",
              "      <td>NaN</td>\n",
              "      <td>105.0</td>\n",
              "      <td>2023</td>\n",
              "      <td>NaN</td>\n",
              "    </tr>\n",
              "  </tbody>\n",
              "</table>\n",
              "</div>"
            ],
            "text/plain": [
              "                       Movie_Name Certification Release_Date  \\\n",
              "0  Black Panther: Wakanda Forever          PG13   2022-11-10   \n",
              "1    Puss in Boots: The Last Wish            PG   2022-12-08   \n",
              "2                 Shotgun Wedding             R   2022-12-28   \n",
              "3                           M3GAN          PG13   2023-01-05   \n",
              "4                     Transfusion         MA15+   2023-01-05   \n",
              "\n",
              "                                              Genres Language        Budget  \\\n",
              "0       ['Action,', 'Adventure,', 'Science Fiction']  English  2.500000e+10   \n",
              "1  ['Animation,', 'Adventure,', 'Comedy,', 'Famil...  English  9.000000e+09   \n",
              "2                  ['Action,', 'Romance,', 'Comedy']  English           NaN   \n",
              "3          ['Science Fiction,', 'Horror,', 'Comedy']  English  1.200000e+09   \n",
              "4                   ['Crime,', 'Thriller,', 'Drama']  English           NaN   \n",
              "\n",
              "        Revenue  Runtime  year        profit  \n",
              "0  8.350000e+10    162.0  2022  5.850000e+10  \n",
              "1  3.691057e+10    103.0  2022  2.791057e+10  \n",
              "2  4.495365e+08    101.0  2022           NaN  \n",
              "3  1.580000e+10    102.0  2023  1.460000e+10  \n",
              "4           NaN    105.0  2023           NaN  "
            ]
          },
          "execution_count": 21,
          "metadata": {},
          "output_type": "execute_result"
        }
      ],
      "source": [
        "# Menambah kolom profit\n",
        "movie['profit'] = movie['Revenue'] - movie['Budget']\n",
        "movie.head()"
      ]
    },
    {
      "cell_type": "markdown",
      "metadata": {
        "id": "oP4OousUptCw"
      },
      "source": [
        "### Penghapusan kolom tidak berguna"
      ]
    },
    {
      "cell_type": "code",
      "execution_count": 22,
      "metadata": {
        "id": "mlbxaZCx4CO0"
      },
      "outputs": [],
      "source": [
        "movie = movie.drop(columns=['Certification'], axis=1)"
      ]
    },
    {
      "cell_type": "markdown",
      "metadata": {
        "id": "J9Qjb53p6O5m"
      },
      "source": [
        "## Pengecekan missing dan duplicated data"
      ]
    },
    {
      "cell_type": "code",
      "execution_count": 23,
      "metadata": {
        "colab": {
          "base_uri": "https://localhost:8080/"
        },
        "id": "5Wo3R5pb6T2x",
        "outputId": "dd6948fe-bb6e-470c-c38f-f291662784f0"
      },
      "outputs": [
        {
          "data": {
            "text/plain": [
              "Movie_Name         0\n",
              "Release_Date       0\n",
              "Genres             0\n",
              "Language           0\n",
              "Budget          1889\n",
              "Revenue         1606\n",
              "Runtime          264\n",
              "year               0\n",
              "profit          2014\n",
              "dtype: int64"
            ]
          },
          "execution_count": 23,
          "metadata": {},
          "output_type": "execute_result"
        }
      ],
      "source": [
        "# Cek data null\n",
        "movie.isnull().sum()"
      ]
    },
    {
      "cell_type": "code",
      "execution_count": 24,
      "metadata": {
        "id": "GggcVlB44_1K"
      },
      "outputs": [],
      "source": [
        "#Drop data Null\n",
        "movie.dropna(inplace=True)"
      ]
    },
    {
      "cell_type": "code",
      "execution_count": 25,
      "metadata": {
        "colab": {
          "base_uri": "https://localhost:8080/"
        },
        "id": "kAAzWHn5ofA_",
        "outputId": "a8a8b12f-6a68-4181-b196-35afa622790f"
      },
      "outputs": [
        {
          "data": {
            "text/plain": [
              "0"
            ]
          },
          "execution_count": 25,
          "metadata": {},
          "output_type": "execute_result"
        }
      ],
      "source": [
        "# Cek data duplikat\n",
        "movie.duplicated().sum()"
      ]
    },
    {
      "cell_type": "markdown",
      "metadata": {
        "id": "8X3bUT--6cjR"
      },
      "source": [
        "## Normalisasi kolom genre"
      ]
    },
    {
      "cell_type": "code",
      "execution_count": 26,
      "metadata": {
        "colab": {
          "base_uri": "https://localhost:8080/",
          "height": 275
        },
        "id": "vSr7CPwd7yYJ",
        "outputId": "a3b237b1-16f5-40c8-aa13-a92a774b49bb"
      },
      "outputs": [
        {
          "data": {
            "text/html": [
              "<div>\n",
              "<style scoped>\n",
              "    .dataframe tbody tr th:only-of-type {\n",
              "        vertical-align: middle;\n",
              "    }\n",
              "\n",
              "    .dataframe tbody tr th {\n",
              "        vertical-align: top;\n",
              "    }\n",
              "\n",
              "    .dataframe thead th {\n",
              "        text-align: right;\n",
              "    }\n",
              "</style>\n",
              "<table border=\"1\" class=\"dataframe\">\n",
              "  <thead>\n",
              "    <tr style=\"text-align: right;\">\n",
              "      <th></th>\n",
              "      <th>Movie_Name</th>\n",
              "      <th>Release_Date</th>\n",
              "      <th>Genres</th>\n",
              "      <th>Language</th>\n",
              "      <th>Budget</th>\n",
              "      <th>Revenue</th>\n",
              "      <th>Runtime</th>\n",
              "      <th>year</th>\n",
              "      <th>profit</th>\n",
              "    </tr>\n",
              "  </thead>\n",
              "  <tbody>\n",
              "    <tr>\n",
              "      <th>0</th>\n",
              "      <td>Black Panther: Wakanda Forever</td>\n",
              "      <td>2022-11-10</td>\n",
              "      <td>['Action,', 'Adventure,', 'Science Fiction']</td>\n",
              "      <td>English</td>\n",
              "      <td>2.500000e+10</td>\n",
              "      <td>8.350000e+10</td>\n",
              "      <td>162.0</td>\n",
              "      <td>2022</td>\n",
              "      <td>5.850000e+10</td>\n",
              "    </tr>\n",
              "    <tr>\n",
              "      <th>1</th>\n",
              "      <td>Puss in Boots: The Last Wish</td>\n",
              "      <td>2022-12-08</td>\n",
              "      <td>['Animation,', 'Adventure,', 'Comedy,', 'Famil...</td>\n",
              "      <td>English</td>\n",
              "      <td>9.000000e+09</td>\n",
              "      <td>3.691057e+10</td>\n",
              "      <td>103.0</td>\n",
              "      <td>2022</td>\n",
              "      <td>2.791057e+10</td>\n",
              "    </tr>\n",
              "    <tr>\n",
              "      <th>3</th>\n",
              "      <td>M3GAN</td>\n",
              "      <td>2023-01-05</td>\n",
              "      <td>['Science Fiction,', 'Horror,', 'Comedy']</td>\n",
              "      <td>English</td>\n",
              "      <td>1.200000e+09</td>\n",
              "      <td>1.580000e+10</td>\n",
              "      <td>102.0</td>\n",
              "      <td>2023</td>\n",
              "      <td>1.460000e+10</td>\n",
              "    </tr>\n",
              "    <tr>\n",
              "      <th>7</th>\n",
              "      <td>Avatar: The Way of Water</td>\n",
              "      <td>2022-12-15</td>\n",
              "      <td>['Science Fiction,', 'Adventure,', 'Action']</td>\n",
              "      <td>English</td>\n",
              "      <td>4.600000e+10</td>\n",
              "      <td>2.176000e+11</td>\n",
              "      <td>192.0</td>\n",
              "      <td>2022</td>\n",
              "      <td>1.716000e+11</td>\n",
              "    </tr>\n",
              "    <tr>\n",
              "      <th>8</th>\n",
              "      <td>Devotion</td>\n",
              "      <td>2023-01-20</td>\n",
              "      <td>['War,', 'History,', 'Drama']</td>\n",
              "      <td>English</td>\n",
              "      <td>9.000000e+09</td>\n",
              "      <td>2.000000e+09</td>\n",
              "      <td>139.0</td>\n",
              "      <td>2023</td>\n",
              "      <td>-7.000000e+09</td>\n",
              "    </tr>\n",
              "  </tbody>\n",
              "</table>\n",
              "</div>"
            ],
            "text/plain": [
              "                       Movie_Name Release_Date  \\\n",
              "0  Black Panther: Wakanda Forever   2022-11-10   \n",
              "1    Puss in Boots: The Last Wish   2022-12-08   \n",
              "3                           M3GAN   2023-01-05   \n",
              "7        Avatar: The Way of Water   2022-12-15   \n",
              "8                        Devotion   2023-01-20   \n",
              "\n",
              "                                              Genres Language        Budget  \\\n",
              "0       ['Action,', 'Adventure,', 'Science Fiction']  English  2.500000e+10   \n",
              "1  ['Animation,', 'Adventure,', 'Comedy,', 'Famil...  English  9.000000e+09   \n",
              "3          ['Science Fiction,', 'Horror,', 'Comedy']  English  1.200000e+09   \n",
              "7       ['Science Fiction,', 'Adventure,', 'Action']  English  4.600000e+10   \n",
              "8                      ['War,', 'History,', 'Drama']  English  9.000000e+09   \n",
              "\n",
              "        Revenue  Runtime  year        profit  \n",
              "0  8.350000e+10    162.0  2022  5.850000e+10  \n",
              "1  3.691057e+10    103.0  2022  2.791057e+10  \n",
              "3  1.580000e+10    102.0  2023  1.460000e+10  \n",
              "7  2.176000e+11    192.0  2022  1.716000e+11  \n",
              "8  2.000000e+09    139.0  2023 -7.000000e+09  "
            ]
          },
          "execution_count": 26,
          "metadata": {},
          "output_type": "execute_result"
        }
      ],
      "source": [
        "movie.head()"
      ]
    },
    {
      "cell_type": "code",
      "execution_count": 27,
      "metadata": {
        "colab": {
          "base_uri": "https://localhost:8080/"
        },
        "id": "4aErdEv35CVQ",
        "outputId": "7cbd0dc4-aa7a-40af-a1ff-7f888e1b6d35"
      },
      "outputs": [
        {
          "name": "stdout",
          "output_type": "stream",
          "text": [
            "<class 'pandas.core.frame.DataFrame'>\n",
            "Index: 1930 entries, 0 to 3963\n",
            "Data columns (total 9 columns):\n",
            " #   Column        Non-Null Count  Dtype         \n",
            "---  ------        --------------  -----         \n",
            " 0   Movie_Name    1930 non-null   object        \n",
            " 1   Release_Date  1930 non-null   datetime64[ns]\n",
            " 2   Genres        1930 non-null   object        \n",
            " 3   Language      1930 non-null   object        \n",
            " 4   Budget        1930 non-null   float64       \n",
            " 5   Revenue       1930 non-null   float64       \n",
            " 6   Runtime       1930 non-null   float64       \n",
            " 7   year          1930 non-null   int32         \n",
            " 8   profit        1930 non-null   float64       \n",
            "dtypes: datetime64[ns](1), float64(4), int32(1), object(3)\n",
            "memory usage: 143.2+ KB\n"
          ]
        }
      ],
      "source": [
        "movie.info()"
      ]
    },
    {
      "cell_type": "code",
      "execution_count": 28,
      "metadata": {
        "id": "Ca04gvD15IjP"
      },
      "outputs": [],
      "source": [
        "# Menghapus tanda kutip, koma tambahan, dan spasi ekstra\n",
        "movie['Genres'] = movie['Genres'].str.replace(r\"[\\[\\]']\", '', regex=True)  # Hapus tanda kurung dan kutip\n",
        "movie['Genres'] = movie['Genres'].str.replace(r',', '', regex=True)  # Hapus koma\n",
        "movie['Genres'] = movie['Genres'].str.strip()  # Hapus spasi di awal dan akhir\n",
        "\n",
        "# Pecah genre menjadi list\n",
        "movie['Genres'] = movie['Genres'].str.split(' ')"
      ]
    },
    {
      "cell_type": "code",
      "execution_count": 29,
      "metadata": {
        "id": "7xflPB1a8R6P"
      },
      "outputs": [],
      "source": [
        "from sklearn.preprocessing import MultiLabelBinarizer\n",
        "# Menggunakan MultiLabelBinarizer untuk preprocessing\n",
        "mlb = MultiLabelBinarizer()\n",
        "genre_encoded = mlb.fit_transform(movie['Genres'])\n",
        "\n",
        "# Membuat DataFrame dengan genre yang telah dienkode\n",
        "genre_encoded_df = pd.DataFrame(genre_encoded, columns=mlb.classes_)\n",
        "\n",
        "# Menggabungkan dengan DataFrame asli\n",
        "movie_encoded = pd.concat([movie, genre_encoded_df], axis=1).drop('Genres', axis=1)"
      ]
    },
    {
      "cell_type": "code",
      "execution_count": 30,
      "metadata": {
        "colab": {
          "base_uri": "https://localhost:8080/"
        },
        "id": "lVO0LZFF7Fad",
        "outputId": "f64124a9-da3c-45ef-bddd-12a39a85780e"
      },
      "outputs": [
        {
          "name": "stdout",
          "output_type": "stream",
          "text": [
            "<class 'pandas.core.frame.DataFrame'>\n",
            "Index: 2903 entries, 0 to 1928\n",
            "Data columns (total 29 columns):\n",
            " #   Column        Non-Null Count  Dtype         \n",
            "---  ------        --------------  -----         \n",
            " 0   Movie_Name    1930 non-null   object        \n",
            " 1   Release_Date  1930 non-null   datetime64[ns]\n",
            " 2   Language      1930 non-null   object        \n",
            " 3   Budget        1930 non-null   float64       \n",
            " 4   Revenue       1930 non-null   float64       \n",
            " 5   Runtime       1930 non-null   float64       \n",
            " 6   year          1930 non-null   float64       \n",
            " 7   profit        1930 non-null   float64       \n",
            " 8   Action        1930 non-null   float64       \n",
            " 9   Adventure     1930 non-null   float64       \n",
            " 10  Animation     1930 non-null   float64       \n",
            " 11  Comedy        1930 non-null   float64       \n",
            " 12  Crime         1930 non-null   float64       \n",
            " 13  Documentary   1930 non-null   float64       \n",
            " 14  Drama         1930 non-null   float64       \n",
            " 15  Family        1930 non-null   float64       \n",
            " 16  Fantasy       1930 non-null   float64       \n",
            " 17  Fiction       1930 non-null   float64       \n",
            " 18  History       1930 non-null   float64       \n",
            " 19  Horror        1930 non-null   float64       \n",
            " 20  Movie         1930 non-null   float64       \n",
            " 21  Music         1930 non-null   float64       \n",
            " 22  Mystery       1930 non-null   float64       \n",
            " 23  Romance       1930 non-null   float64       \n",
            " 24  Science       1930 non-null   float64       \n",
            " 25  TV            1930 non-null   float64       \n",
            " 26  Thriller      1930 non-null   float64       \n",
            " 27  War           1930 non-null   float64       \n",
            " 28  Western       1930 non-null   float64       \n",
            "dtypes: datetime64[ns](1), float64(26), object(2)\n",
            "memory usage: 680.4+ KB\n"
          ]
        }
      ],
      "source": [
        "movie_encoded.info()"
      ]
    },
    {
      "cell_type": "markdown",
      "metadata": {
        "id": "FCX58RzQ8X-W"
      },
      "source": [
        "# ANALISA"
      ]
    },
    {
      "cell_type": "markdown",
      "metadata": {
        "id": "rgCR7jjP8aCt"
      },
      "source": [
        "## TASK 1\n",
        "Tugas 1: Analisis Keuangan Film"
      ]
    },
    {
      "cell_type": "code",
      "execution_count": 31,
      "metadata": {
        "colab": {
          "base_uri": "https://localhost:8080/",
          "height": 206
        },
        "id": "t301FJVE8bKN",
        "outputId": "a6145562-b788-4205-de10-08ce40fe232d"
      },
      "outputs": [
        {
          "data": {
            "text/html": [
              "<div>\n",
              "<style scoped>\n",
              "    .dataframe tbody tr th:only-of-type {\n",
              "        vertical-align: middle;\n",
              "    }\n",
              "\n",
              "    .dataframe tbody tr th {\n",
              "        vertical-align: top;\n",
              "    }\n",
              "\n",
              "    .dataframe thead th {\n",
              "        text-align: right;\n",
              "    }\n",
              "</style>\n",
              "<table border=\"1\" class=\"dataframe\">\n",
              "  <thead>\n",
              "    <tr style=\"text-align: right;\">\n",
              "      <th></th>\n",
              "      <th>year</th>\n",
              "      <th>Budget</th>\n",
              "    </tr>\n",
              "  </thead>\n",
              "  <tbody>\n",
              "    <tr>\n",
              "      <th>0</th>\n",
              "      <td>1933</td>\n",
              "      <td>67200000.0</td>\n",
              "    </tr>\n",
              "    <tr>\n",
              "      <th>1</th>\n",
              "      <td>1939</td>\n",
              "      <td>677700000.0</td>\n",
              "    </tr>\n",
              "    <tr>\n",
              "      <th>2</th>\n",
              "      <td>1940</td>\n",
              "      <td>260000000.0</td>\n",
              "    </tr>\n",
              "    <tr>\n",
              "      <th>3</th>\n",
              "      <td>1941</td>\n",
              "      <td>83972700.0</td>\n",
              "    </tr>\n",
              "    <tr>\n",
              "      <th>4</th>\n",
              "      <td>1942</td>\n",
              "      <td>85800000.0</td>\n",
              "    </tr>\n",
              "  </tbody>\n",
              "</table>\n",
              "</div>"
            ],
            "text/plain": [
              "   year       Budget\n",
              "0  1933   67200000.0\n",
              "1  1939  677700000.0\n",
              "2  1940  260000000.0\n",
              "3  1941   83972700.0\n",
              "4  1942   85800000.0"
            ]
          },
          "execution_count": 31,
          "metadata": {},
          "output_type": "execute_result"
        }
      ],
      "source": [
        "budget_yearly = movie.groupby('year')['Budget'].sum().reset_index()\n",
        "revenue_yearly = movie.groupby('year')['Revenue'].sum().reset_index()\n",
        "budget_yearly.head()"
      ]
    },
    {
      "cell_type": "markdown",
      "metadata": {
        "id": "72QwnI2xI77Q"
      },
      "source": [
        "### Script"
      ]
    },
    {
      "cell_type": "code",
      "execution_count": 32,
      "metadata": {
        "colab": {
          "base_uri": "https://localhost:8080/",
          "height": 423
        },
        "id": "CYjh_vHv9ylt",
        "outputId": "377c69b7-ad36-4556-8de0-83c130716a15"
      },
      "outputs": [
        {
          "data": {
            "text/html": [
              "<div>\n",
              "<style scoped>\n",
              "    .dataframe tbody tr th:only-of-type {\n",
              "        vertical-align: middle;\n",
              "    }\n",
              "\n",
              "    .dataframe tbody tr th {\n",
              "        vertical-align: top;\n",
              "    }\n",
              "\n",
              "    .dataframe thead th {\n",
              "        text-align: right;\n",
              "    }\n",
              "</style>\n",
              "<table border=\"1\" class=\"dataframe\">\n",
              "  <thead>\n",
              "    <tr style=\"text-align: right;\">\n",
              "      <th></th>\n",
              "      <th>year</th>\n",
              "      <th>Revenue</th>\n",
              "    </tr>\n",
              "  </thead>\n",
              "  <tbody>\n",
              "    <tr>\n",
              "      <th>0</th>\n",
              "      <td>1933</td>\n",
              "      <td>1.000000e+09</td>\n",
              "    </tr>\n",
              "    <tr>\n",
              "      <th>1</th>\n",
              "      <td>1939</td>\n",
              "      <td>4.361075e+10</td>\n",
              "    </tr>\n",
              "    <tr>\n",
              "      <th>2</th>\n",
              "      <td>1940</td>\n",
              "      <td>8.430000e+09</td>\n",
              "    </tr>\n",
              "    <tr>\n",
              "      <th>3</th>\n",
              "      <td>1941</td>\n",
              "      <td>2.321800e+09</td>\n",
              "    </tr>\n",
              "    <tr>\n",
              "      <th>4</th>\n",
              "      <td>1942</td>\n",
              "      <td>2.674472e+10</td>\n",
              "    </tr>\n",
              "    <tr>\n",
              "      <th>...</th>\n",
              "      <td>...</td>\n",
              "      <td>...</td>\n",
              "    </tr>\n",
              "    <tr>\n",
              "      <th>71</th>\n",
              "      <td>2019</td>\n",
              "      <td>2.449463e+12</td>\n",
              "    </tr>\n",
              "    <tr>\n",
              "      <th>72</th>\n",
              "      <td>2020</td>\n",
              "      <td>3.857884e+11</td>\n",
              "    </tr>\n",
              "    <tr>\n",
              "      <th>73</th>\n",
              "      <td>2021</td>\n",
              "      <td>1.226815e+12</td>\n",
              "    </tr>\n",
              "    <tr>\n",
              "      <th>74</th>\n",
              "      <td>2022</td>\n",
              "      <td>1.549676e+12</td>\n",
              "    </tr>\n",
              "    <tr>\n",
              "      <th>75</th>\n",
              "      <td>2023</td>\n",
              "      <td>5.169541e+10</td>\n",
              "    </tr>\n",
              "  </tbody>\n",
              "</table>\n",
              "<p>76 rows × 2 columns</p>\n",
              "</div>"
            ],
            "text/plain": [
              "    year       Revenue\n",
              "0   1933  1.000000e+09\n",
              "1   1939  4.361075e+10\n",
              "2   1940  8.430000e+09\n",
              "3   1941  2.321800e+09\n",
              "4   1942  2.674472e+10\n",
              "..   ...           ...\n",
              "71  2019  2.449463e+12\n",
              "72  2020  3.857884e+11\n",
              "73  2021  1.226815e+12\n",
              "74  2022  1.549676e+12\n",
              "75  2023  5.169541e+10\n",
              "\n",
              "[76 rows x 2 columns]"
            ]
          },
          "execution_count": 32,
          "metadata": {},
          "output_type": "execute_result"
        }
      ],
      "source": [
        "revenue_yearly"
      ]
    },
    {
      "cell_type": "code",
      "execution_count": 33,
      "metadata": {
        "colab": {
          "base_uri": "https://localhost:8080/",
          "height": 487
        },
        "id": "PLFE4WS4HQYE",
        "outputId": "b0ddd8c9-0bbc-4ad2-bf0d-c9cb22e5ea53"
      },
      "outputs": [
        {
          "data": {
            "text/plain": [
              "array([[<Axes: title={'center': 'Budget'}>]], dtype=object)"
            ]
          },
          "execution_count": 33,
          "metadata": {},
          "output_type": "execute_result"
        },
        {
          "data": {
            "image/png": "[encoded data removed]",
            "text/plain": [
              "<Figure size 640x480 with 1 Axes>"
            ]
          },
          "metadata": {},
          "output_type": "display_data"
        }
      ],
      "source": [
        "budget_yearly.hist(column='Budget')"
      ]
    },
    {
      "cell_type": "code",
      "execution_count": 34,
      "metadata": {
        "colab": {
          "base_uri": "https://localhost:8080/",
          "height": 482
        },
        "id": "p_o9u0mqICQk",
        "outputId": "61c50b39-19df-49c9-89cf-946d768af9bc"
      },
      "outputs": [
        {
          "data": {
            "text/plain": [
              "<Axes: xlabel='year', ylabel='Budget'>"
            ]
          },
          "execution_count": 34,
          "metadata": {},
          "output_type": "execute_result"
        },
        {
          "data": {
            "image/png": "[encoded data removed]",
            "text/plain": [
              "<Figure size 640x480 with 1 Axes>"
            ]
          },
          "metadata": {},
          "output_type": "display_data"
        }
      ],
      "source": [
        "sns.scatterplot(x='year', y='Budget', data=budget_yearly)"
      ]
    },
    {
      "cell_type": "code",
      "execution_count": 35,
      "metadata": {
        "colab": {
          "base_uri": "https://localhost:8080/",
          "height": 482
        },
        "id": "ajwF9SiZITOI",
        "outputId": "d4bc9f18-213d-472e-a26c-412903618041"
      },
      "outputs": [
        {
          "data": {
            "text/plain": [
              "<Axes: xlabel='year', ylabel='Revenue'>"
            ]
          },
          "execution_count": 35,
          "metadata": {},
          "output_type": "execute_result"
        },
        {
          "data": {
            "image/png": "[encoded data removed]",
            "text/plain": [
              "<Figure size 640x480 with 1 Axes>"
            ]
          },
          "metadata": {},
          "output_type": "display_data"
        }
      ],
      "source": [
        "sns.scatterplot(x='year', y='Revenue', data=revenue_yearly)"
      ]
    },
    {
      "cell_type": "markdown",
      "metadata": {
        "id": "wAunhRuVI5RJ"
      },
      "source": [
        "### analisa"
      ]
    },
    {
      "cell_type": "markdown",
      "metadata": {
        "id": "My6_KrBxI_vn"
      },
      "source": [
        "Dari hasil analisa didapatkan bahwa semakin baru film maka budget yang dikeluarkan akan semakin banyak."
      ]
    },
    {
      "cell_type": "code",
      "execution_count": 36,
      "metadata": {
        "colab": {
          "base_uri": "https://localhost:8080/",
          "height": 423
        },
        "id": "7CFVzenKJhjF",
        "outputId": "9afdb19d-6ec0-4390-e75b-702022de5a09"
      },
      "outputs": [
        {
          "data": {
            "text/html": [
              "<div>\n",
              "<style scoped>\n",
              "    .dataframe tbody tr th:only-of-type {\n",
              "        vertical-align: middle;\n",
              "    }\n",
              "\n",
              "    .dataframe tbody tr th {\n",
              "        vertical-align: top;\n",
              "    }\n",
              "\n",
              "    .dataframe thead th {\n",
              "        text-align: right;\n",
              "    }\n",
              "</style>\n",
              "<table border=\"1\" class=\"dataframe\">\n",
              "  <thead>\n",
              "    <tr style=\"text-align: right;\">\n",
              "      <th></th>\n",
              "      <th>year</th>\n",
              "      <th>count</th>\n",
              "      <th>mean</th>\n",
              "      <th>std</th>\n",
              "      <th>min</th>\n",
              "      <th>25%</th>\n",
              "      <th>50%</th>\n",
              "      <th>75%</th>\n",
              "      <th>max</th>\n",
              "    </tr>\n",
              "  </thead>\n",
              "  <tbody>\n",
              "    <tr>\n",
              "      <th>0</th>\n",
              "      <td>1933</td>\n",
              "      <td>1.0</td>\n",
              "      <td>6.720000e+07</td>\n",
              "      <td>NaN</td>\n",
              "      <td>67200000.0</td>\n",
              "      <td>6.720000e+07</td>\n",
              "      <td>6.720000e+07</td>\n",
              "      <td>6.720000e+07</td>\n",
              "      <td>6.720000e+07</td>\n",
              "    </tr>\n",
              "    <tr>\n",
              "      <th>1</th>\n",
              "      <td>1939</td>\n",
              "      <td>2.0</td>\n",
              "      <td>3.388500e+08</td>\n",
              "      <td>8.647916e+07</td>\n",
              "      <td>277700000.0</td>\n",
              "      <td>3.082750e+08</td>\n",
              "      <td>3.388500e+08</td>\n",
              "      <td>3.694250e+08</td>\n",
              "      <td>4.000000e+08</td>\n",
              "    </tr>\n",
              "    <tr>\n",
              "      <th>2</th>\n",
              "      <td>1940</td>\n",
              "      <td>1.0</td>\n",
              "      <td>2.600000e+08</td>\n",
              "      <td>NaN</td>\n",
              "      <td>260000000.0</td>\n",
              "      <td>2.600000e+08</td>\n",
              "      <td>2.600000e+08</td>\n",
              "      <td>2.600000e+08</td>\n",
              "      <td>2.600000e+08</td>\n",
              "    </tr>\n",
              "    <tr>\n",
              "      <th>3</th>\n",
              "      <td>1941</td>\n",
              "      <td>1.0</td>\n",
              "      <td>8.397270e+07</td>\n",
              "      <td>NaN</td>\n",
              "      <td>83972700.0</td>\n",
              "      <td>8.397270e+07</td>\n",
              "      <td>8.397270e+07</td>\n",
              "      <td>8.397270e+07</td>\n",
              "      <td>8.397270e+07</td>\n",
              "    </tr>\n",
              "    <tr>\n",
              "      <th>4</th>\n",
              "      <td>1942</td>\n",
              "      <td>1.0</td>\n",
              "      <td>8.580000e+07</td>\n",
              "      <td>NaN</td>\n",
              "      <td>85800000.0</td>\n",
              "      <td>8.580000e+07</td>\n",
              "      <td>8.580000e+07</td>\n",
              "      <td>8.580000e+07</td>\n",
              "      <td>8.580000e+07</td>\n",
              "    </tr>\n",
              "    <tr>\n",
              "      <th>...</th>\n",
              "      <td>...</td>\n",
              "      <td>...</td>\n",
              "      <td>...</td>\n",
              "      <td>...</td>\n",
              "      <td>...</td>\n",
              "      <td>...</td>\n",
              "      <td>...</td>\n",
              "      <td>...</td>\n",
              "      <td>...</td>\n",
              "    </tr>\n",
              "    <tr>\n",
              "      <th>71</th>\n",
              "      <td>2019</td>\n",
              "      <td>75.0</td>\n",
              "      <td>7.566133e+09</td>\n",
              "      <td>7.384420e+09</td>\n",
              "      <td>600000000.0</td>\n",
              "      <td>2.000000e+09</td>\n",
              "      <td>4.800000e+09</td>\n",
              "      <td>1.175000e+10</td>\n",
              "      <td>3.560000e+10</td>\n",
              "    </tr>\n",
              "    <tr>\n",
              "      <th>72</th>\n",
              "      <td>2020</td>\n",
              "      <td>46.0</td>\n",
              "      <td>5.300877e+09</td>\n",
              "      <td>6.077254e+09</td>\n",
              "      <td>5600000.0</td>\n",
              "      <td>1.000000e+09</td>\n",
              "      <td>2.500000e+09</td>\n",
              "      <td>7.300000e+09</td>\n",
              "      <td>2.050000e+10</td>\n",
              "    </tr>\n",
              "    <tr>\n",
              "      <th>73</th>\n",
              "      <td>2021</td>\n",
              "      <td>74.0</td>\n",
              "      <td>7.432095e+09</td>\n",
              "      <td>6.884280e+09</td>\n",
              "      <td>500000000.0</td>\n",
              "      <td>2.000000e+09</td>\n",
              "      <td>4.400000e+09</td>\n",
              "      <td>1.075000e+10</td>\n",
              "      <td>2.500000e+10</td>\n",
              "    </tr>\n",
              "    <tr>\n",
              "      <th>74</th>\n",
              "      <td>2022</td>\n",
              "      <td>82.0</td>\n",
              "      <td>6.661994e+09</td>\n",
              "      <td>7.750943e+09</td>\n",
              "      <td>1500000.0</td>\n",
              "      <td>1.700000e+09</td>\n",
              "      <td>4.000000e+09</td>\n",
              "      <td>8.875000e+09</td>\n",
              "      <td>4.600000e+10</td>\n",
              "    </tr>\n",
              "    <tr>\n",
              "      <th>75</th>\n",
              "      <td>2023</td>\n",
              "      <td>12.0</td>\n",
              "      <td>3.716667e+09</td>\n",
              "      <td>2.641567e+09</td>\n",
              "      <td>100000000.0</td>\n",
              "      <td>1.925000e+09</td>\n",
              "      <td>3.150000e+09</td>\n",
              "      <td>5.000000e+09</td>\n",
              "      <td>9.000000e+09</td>\n",
              "    </tr>\n",
              "  </tbody>\n",
              "</table>\n",
              "<p>76 rows × 9 columns</p>\n",
              "</div>"
            ],
            "text/plain": [
              "    year  count          mean           std          min           25%  \\\n",
              "0   1933    1.0  6.720000e+07           NaN   67200000.0  6.720000e+07   \n",
              "1   1939    2.0  3.388500e+08  8.647916e+07  277700000.0  3.082750e+08   \n",
              "2   1940    1.0  2.600000e+08           NaN  260000000.0  2.600000e+08   \n",
              "3   1941    1.0  8.397270e+07           NaN   83972700.0  8.397270e+07   \n",
              "4   1942    1.0  8.580000e+07           NaN   85800000.0  8.580000e+07   \n",
              "..   ...    ...           ...           ...          ...           ...   \n",
              "71  2019   75.0  7.566133e+09  7.384420e+09  600000000.0  2.000000e+09   \n",
              "72  2020   46.0  5.300877e+09  6.077254e+09    5600000.0  1.000000e+09   \n",
              "73  2021   74.0  7.432095e+09  6.884280e+09  500000000.0  2.000000e+09   \n",
              "74  2022   82.0  6.661994e+09  7.750943e+09    1500000.0  1.700000e+09   \n",
              "75  2023   12.0  3.716667e+09  2.641567e+09  100000000.0  1.925000e+09   \n",
              "\n",
              "             50%           75%           max  \n",
              "0   6.720000e+07  6.720000e+07  6.720000e+07  \n",
              "1   3.388500e+08  3.694250e+08  4.000000e+08  \n",
              "2   2.600000e+08  2.600000e+08  2.600000e+08  \n",
              "3   8.397270e+07  8.397270e+07  8.397270e+07  \n",
              "4   8.580000e+07  8.580000e+07  8.580000e+07  \n",
              "..           ...           ...           ...  \n",
              "71  4.800000e+09  1.175000e+10  3.560000e+10  \n",
              "72  2.500000e+09  7.300000e+09  2.050000e+10  \n",
              "73  4.400000e+09  1.075000e+10  2.500000e+10  \n",
              "74  4.000000e+09  8.875000e+09  4.600000e+10  \n",
              "75  3.150000e+09  5.000000e+09  9.000000e+09  \n",
              "\n",
              "[76 rows x 9 columns]"
            ]
          },
          "execution_count": 36,
          "metadata": {},
          "output_type": "execute_result"
        }
      ],
      "source": [
        "budget_yearly_describe = movie.groupby('year')['Budget'].describe().reset_index()\n",
        "budget_yearly_describe"
      ]
    },
    {
      "cell_type": "code",
      "execution_count": 37,
      "metadata": {
        "colab": {
          "base_uri": "https://localhost:8080/",
          "height": 482
        },
        "id": "P_qRAPCWKAza",
        "outputId": "4f0145dd-b388-4891-c46e-44f915b8fe16"
      },
      "outputs": [
        {
          "data": {
            "text/plain": [
              "<Axes: xlabel='year', ylabel='mean'>"
            ]
          },
          "execution_count": 37,
          "metadata": {},
          "output_type": "execute_result"
        },
        {
          "data": {
            "image/png": "[encoded data removed]",
            "text/plain": [
              "<Figure size 640x480 with 1 Axes>"
            ]
          },
          "metadata": {},
          "output_type": "display_data"
        }
      ],
      "source": [
        "sns.scatterplot(x='year', y='mean', data=budget_yearly_describe)"
      ]
    },
    {
      "cell_type": "code",
      "execution_count": 38,
      "metadata": {
        "colab": {
          "base_uri": "https://localhost:8080/",
          "height": 482
        },
        "id": "QxcjTgdiWJGz",
        "outputId": "1e7621bf-f477-4cad-a982-cde94bca035d"
      },
      "outputs": [
        {
          "data": {
            "text/plain": [
              "<Axes: xlabel='Budget', ylabel='Revenue'>"
            ]
          },
          "execution_count": 38,
          "metadata": {},
          "output_type": "execute_result"
        },
        {
          "data": {
            "image/png": "[encoded data removed]",
            "text/plain": [
              "<Figure size 640x480 with 1 Axes>"
            ]
          },
          "metadata": {},
          "output_type": "display_data"
        }
      ],
      "source": [
        "sns.scatterplot(x='Budget', y='Revenue', data=movie)"
      ]
    },
    {
      "cell_type": "markdown",
      "metadata": {
        "id": "i5a4sUxMXZMV"
      },
      "source": [
        "## TASK 2\n",
        "Tugas 2: Analisis Genre dan Profitabilitas"
      ]
    },
    {
      "cell_type": "code",
      "execution_count": 39,
      "metadata": {
        "colab": {
          "base_uri": "https://localhost:8080/",
          "height": 241
        },
        "id": "Quu74SiqXkw4",
        "outputId": "2263a54b-eb43-4d14-91c3-6fd59740cb58"
      },
      "outputs": [
        {
          "data": {
            "text/html": [
              "<div>\n",
              "<style scoped>\n",
              "    .dataframe tbody tr th:only-of-type {\n",
              "        vertical-align: middle;\n",
              "    }\n",
              "\n",
              "    .dataframe tbody tr th {\n",
              "        vertical-align: top;\n",
              "    }\n",
              "\n",
              "    .dataframe thead th {\n",
              "        text-align: right;\n",
              "    }\n",
              "</style>\n",
              "<table border=\"1\" class=\"dataframe\">\n",
              "  <thead>\n",
              "    <tr style=\"text-align: right;\">\n",
              "      <th></th>\n",
              "      <th>Movie_Name</th>\n",
              "      <th>Release_Date</th>\n",
              "      <th>Genres</th>\n",
              "      <th>Language</th>\n",
              "      <th>Budget</th>\n",
              "      <th>Revenue</th>\n",
              "      <th>Runtime</th>\n",
              "      <th>year</th>\n",
              "      <th>profit</th>\n",
              "    </tr>\n",
              "  </thead>\n",
              "  <tbody>\n",
              "    <tr>\n",
              "      <th>0</th>\n",
              "      <td>Black Panther: Wakanda Forever</td>\n",
              "      <td>2022-11-10</td>\n",
              "      <td>[Action, Adventure, Science, Fiction]</td>\n",
              "      <td>English</td>\n",
              "      <td>2.500000e+10</td>\n",
              "      <td>8.350000e+10</td>\n",
              "      <td>162.0</td>\n",
              "      <td>2022</td>\n",
              "      <td>5.850000e+10</td>\n",
              "    </tr>\n",
              "    <tr>\n",
              "      <th>1</th>\n",
              "      <td>Puss in Boots: The Last Wish</td>\n",
              "      <td>2022-12-08</td>\n",
              "      <td>[Animation, Adventure, Comedy, Family, Fantasy]</td>\n",
              "      <td>English</td>\n",
              "      <td>9.000000e+09</td>\n",
              "      <td>3.691057e+10</td>\n",
              "      <td>103.0</td>\n",
              "      <td>2022</td>\n",
              "      <td>2.791057e+10</td>\n",
              "    </tr>\n",
              "    <tr>\n",
              "      <th>3</th>\n",
              "      <td>M3GAN</td>\n",
              "      <td>2023-01-05</td>\n",
              "      <td>[Science, Fiction, Horror, Comedy]</td>\n",
              "      <td>English</td>\n",
              "      <td>1.200000e+09</td>\n",
              "      <td>1.580000e+10</td>\n",
              "      <td>102.0</td>\n",
              "      <td>2023</td>\n",
              "      <td>1.460000e+10</td>\n",
              "    </tr>\n",
              "    <tr>\n",
              "      <th>7</th>\n",
              "      <td>Avatar: The Way of Water</td>\n",
              "      <td>2022-12-15</td>\n",
              "      <td>[Science, Fiction, Adventure, Action]</td>\n",
              "      <td>English</td>\n",
              "      <td>4.600000e+10</td>\n",
              "      <td>2.176000e+11</td>\n",
              "      <td>192.0</td>\n",
              "      <td>2022</td>\n",
              "      <td>1.716000e+11</td>\n",
              "    </tr>\n",
              "    <tr>\n",
              "      <th>8</th>\n",
              "      <td>Devotion</td>\n",
              "      <td>2023-01-20</td>\n",
              "      <td>[War, History, Drama]</td>\n",
              "      <td>English</td>\n",
              "      <td>9.000000e+09</td>\n",
              "      <td>2.000000e+09</td>\n",
              "      <td>139.0</td>\n",
              "      <td>2023</td>\n",
              "      <td>-7.000000e+09</td>\n",
              "    </tr>\n",
              "  </tbody>\n",
              "</table>\n",
              "</div>"
            ],
            "text/plain": [
              "                       Movie_Name Release_Date  \\\n",
              "0  Black Panther: Wakanda Forever   2022-11-10   \n",
              "1    Puss in Boots: The Last Wish   2022-12-08   \n",
              "3                           M3GAN   2023-01-05   \n",
              "7        Avatar: The Way of Water   2022-12-15   \n",
              "8                        Devotion   2023-01-20   \n",
              "\n",
              "                                            Genres Language        Budget  \\\n",
              "0            [Action, Adventure, Science, Fiction]  English  2.500000e+10   \n",
              "1  [Animation, Adventure, Comedy, Family, Fantasy]  English  9.000000e+09   \n",
              "3               [Science, Fiction, Horror, Comedy]  English  1.200000e+09   \n",
              "7            [Science, Fiction, Adventure, Action]  English  4.600000e+10   \n",
              "8                            [War, History, Drama]  English  9.000000e+09   \n",
              "\n",
              "        Revenue  Runtime  year        profit  \n",
              "0  8.350000e+10    162.0  2022  5.850000e+10  \n",
              "1  3.691057e+10    103.0  2022  2.791057e+10  \n",
              "3  1.580000e+10    102.0  2023  1.460000e+10  \n",
              "7  2.176000e+11    192.0  2022  1.716000e+11  \n",
              "8  2.000000e+09    139.0  2023 -7.000000e+09  "
            ]
          },
          "execution_count": 39,
          "metadata": {},
          "output_type": "execute_result"
        }
      ],
      "source": [
        "movie['profit'] = movie['Revenue'] - movie['Budget']\n",
        "movie.head()"
      ]
    },
    {
      "cell_type": "code",
      "execution_count": 40,
      "metadata": {
        "colab": {
          "base_uri": "https://localhost:8080/"
        },
        "id": "jWnTDgjvXwGQ",
        "outputId": "bf41cacb-99a7-44a7-d15f-9e7212fd6b1a"
      },
      "outputs": [
        {
          "data": {
            "text/plain": [
              "0                 [Action, Adventure, Science, Fiction]\n",
              "1       [Animation, Adventure, Comedy, Family, Fantasy]\n",
              "3                    [Science, Fiction, Horror, Comedy]\n",
              "7                 [Science, Fiction, Adventure, Action]\n",
              "8                                 [War, History, Drama]\n",
              "                             ...                       \n",
              "3955                                   [Drama, Romance]\n",
              "3957                                     [Drama, Crime]\n",
              "3960                       [Adventure, Comedy, Romance]\n",
              "3961                 [Comedy, Action, Science, Fiction]\n",
              "3963                   [Action, Crime, Thriller, Drama]\n",
              "Name: Genres, Length: 1930, dtype: object"
            ]
          },
          "execution_count": 40,
          "metadata": {},
          "output_type": "execute_result"
        }
      ],
      "source": [
        "movie['Genres']"
      ]
    },
    {
      "cell_type": "code",
      "execution_count": 41,
      "metadata": {
        "colab": {
          "base_uri": "https://localhost:8080/",
          "height": 377
        },
        "id": "wI4CEA9DX7Nu",
        "outputId": "69647d5d-8397-4120-b2f8-9c9320f5bb75"
      },
      "outputs": [
        {
          "data": {
            "text/html": [
              "<div>\n",
              "<style scoped>\n",
              "    .dataframe tbody tr th:only-of-type {\n",
              "        vertical-align: middle;\n",
              "    }\n",
              "\n",
              "    .dataframe tbody tr th {\n",
              "        vertical-align: top;\n",
              "    }\n",
              "\n",
              "    .dataframe thead th {\n",
              "        text-align: right;\n",
              "    }\n",
              "</style>\n",
              "<table border=\"1\" class=\"dataframe\">\n",
              "  <thead>\n",
              "    <tr style=\"text-align: right;\">\n",
              "      <th></th>\n",
              "      <th>Movie_Name</th>\n",
              "      <th>Release_Date</th>\n",
              "      <th>Language</th>\n",
              "      <th>Budget</th>\n",
              "      <th>Revenue</th>\n",
              "      <th>Runtime</th>\n",
              "      <th>year</th>\n",
              "      <th>profit</th>\n",
              "      <th>Action</th>\n",
              "      <th>Adventure</th>\n",
              "      <th>...</th>\n",
              "      <th>Horror</th>\n",
              "      <th>Movie</th>\n",
              "      <th>Music</th>\n",
              "      <th>Mystery</th>\n",
              "      <th>Romance</th>\n",
              "      <th>Science</th>\n",
              "      <th>TV</th>\n",
              "      <th>Thriller</th>\n",
              "      <th>War</th>\n",
              "      <th>Western</th>\n",
              "    </tr>\n",
              "  </thead>\n",
              "  <tbody>\n",
              "    <tr>\n",
              "      <th>0</th>\n",
              "      <td>Black Panther: Wakanda Forever</td>\n",
              "      <td>2022-11-10</td>\n",
              "      <td>English</td>\n",
              "      <td>2.500000e+10</td>\n",
              "      <td>8.350000e+10</td>\n",
              "      <td>162.0</td>\n",
              "      <td>2022.0</td>\n",
              "      <td>5.850000e+10</td>\n",
              "      <td>1.0</td>\n",
              "      <td>1.0</td>\n",
              "      <td>...</td>\n",
              "      <td>0.0</td>\n",
              "      <td>0.0</td>\n",
              "      <td>0.0</td>\n",
              "      <td>0.0</td>\n",
              "      <td>0.0</td>\n",
              "      <td>1.0</td>\n",
              "      <td>0.0</td>\n",
              "      <td>0.0</td>\n",
              "      <td>0.0</td>\n",
              "      <td>0.0</td>\n",
              "    </tr>\n",
              "    <tr>\n",
              "      <th>1</th>\n",
              "      <td>Puss in Boots: The Last Wish</td>\n",
              "      <td>2022-12-08</td>\n",
              "      <td>English</td>\n",
              "      <td>9.000000e+09</td>\n",
              "      <td>3.691057e+10</td>\n",
              "      <td>103.0</td>\n",
              "      <td>2022.0</td>\n",
              "      <td>2.791057e+10</td>\n",
              "      <td>0.0</td>\n",
              "      <td>1.0</td>\n",
              "      <td>...</td>\n",
              "      <td>0.0</td>\n",
              "      <td>0.0</td>\n",
              "      <td>0.0</td>\n",
              "      <td>0.0</td>\n",
              "      <td>0.0</td>\n",
              "      <td>0.0</td>\n",
              "      <td>0.0</td>\n",
              "      <td>0.0</td>\n",
              "      <td>0.0</td>\n",
              "      <td>0.0</td>\n",
              "    </tr>\n",
              "    <tr>\n",
              "      <th>3</th>\n",
              "      <td>M3GAN</td>\n",
              "      <td>2023-01-05</td>\n",
              "      <td>English</td>\n",
              "      <td>1.200000e+09</td>\n",
              "      <td>1.580000e+10</td>\n",
              "      <td>102.0</td>\n",
              "      <td>2023.0</td>\n",
              "      <td>1.460000e+10</td>\n",
              "      <td>1.0</td>\n",
              "      <td>1.0</td>\n",
              "      <td>...</td>\n",
              "      <td>0.0</td>\n",
              "      <td>0.0</td>\n",
              "      <td>0.0</td>\n",
              "      <td>0.0</td>\n",
              "      <td>0.0</td>\n",
              "      <td>1.0</td>\n",
              "      <td>0.0</td>\n",
              "      <td>0.0</td>\n",
              "      <td>0.0</td>\n",
              "      <td>0.0</td>\n",
              "    </tr>\n",
              "    <tr>\n",
              "      <th>7</th>\n",
              "      <td>Avatar: The Way of Water</td>\n",
              "      <td>2022-12-15</td>\n",
              "      <td>English</td>\n",
              "      <td>4.600000e+10</td>\n",
              "      <td>2.176000e+11</td>\n",
              "      <td>192.0</td>\n",
              "      <td>2022.0</td>\n",
              "      <td>1.716000e+11</td>\n",
              "      <td>1.0</td>\n",
              "      <td>0.0</td>\n",
              "      <td>...</td>\n",
              "      <td>0.0</td>\n",
              "      <td>0.0</td>\n",
              "      <td>0.0</td>\n",
              "      <td>0.0</td>\n",
              "      <td>0.0</td>\n",
              "      <td>0.0</td>\n",
              "      <td>0.0</td>\n",
              "      <td>1.0</td>\n",
              "      <td>0.0</td>\n",
              "      <td>0.0</td>\n",
              "    </tr>\n",
              "    <tr>\n",
              "      <th>8</th>\n",
              "      <td>Devotion</td>\n",
              "      <td>2023-01-20</td>\n",
              "      <td>English</td>\n",
              "      <td>9.000000e+09</td>\n",
              "      <td>2.000000e+09</td>\n",
              "      <td>139.0</td>\n",
              "      <td>2023.0</td>\n",
              "      <td>-7.000000e+09</td>\n",
              "      <td>0.0</td>\n",
              "      <td>0.0</td>\n",
              "      <td>...</td>\n",
              "      <td>0.0</td>\n",
              "      <td>0.0</td>\n",
              "      <td>0.0</td>\n",
              "      <td>0.0</td>\n",
              "      <td>0.0</td>\n",
              "      <td>0.0</td>\n",
              "      <td>0.0</td>\n",
              "      <td>0.0</td>\n",
              "      <td>0.0</td>\n",
              "      <td>0.0</td>\n",
              "    </tr>\n",
              "  </tbody>\n",
              "</table>\n",
              "<p>5 rows × 29 columns</p>\n",
              "</div>"
            ],
            "text/plain": [
              "                       Movie_Name Release_Date Language        Budget  \\\n",
              "0  Black Panther: Wakanda Forever   2022-11-10  English  2.500000e+10   \n",
              "1    Puss in Boots: The Last Wish   2022-12-08  English  9.000000e+09   \n",
              "3                           M3GAN   2023-01-05  English  1.200000e+09   \n",
              "7        Avatar: The Way of Water   2022-12-15  English  4.600000e+10   \n",
              "8                        Devotion   2023-01-20  English  9.000000e+09   \n",
              "\n",
              "        Revenue  Runtime    year        profit  Action  Adventure  ...  \\\n",
              "0  8.350000e+10    162.0  2022.0  5.850000e+10     1.0        1.0  ...   \n",
              "1  3.691057e+10    103.0  2022.0  2.791057e+10     0.0        1.0  ...   \n",
              "3  1.580000e+10    102.0  2023.0  1.460000e+10     1.0        1.0  ...   \n",
              "7  2.176000e+11    192.0  2022.0  1.716000e+11     1.0        0.0  ...   \n",
              "8  2.000000e+09    139.0  2023.0 -7.000000e+09     0.0        0.0  ...   \n",
              "\n",
              "   Horror  Movie  Music  Mystery  Romance  Science   TV  Thriller  War  \\\n",
              "0     0.0    0.0    0.0      0.0      0.0      1.0  0.0       0.0  0.0   \n",
              "1     0.0    0.0    0.0      0.0      0.0      0.0  0.0       0.0  0.0   \n",
              "3     0.0    0.0    0.0      0.0      0.0      1.0  0.0       0.0  0.0   \n",
              "7     0.0    0.0    0.0      0.0      0.0      0.0  0.0       1.0  0.0   \n",
              "8     0.0    0.0    0.0      0.0      0.0      0.0  0.0       0.0  0.0   \n",
              "\n",
              "   Western  \n",
              "0      0.0  \n",
              "1      0.0  \n",
              "3      0.0  \n",
              "7      0.0  \n",
              "8      0.0  \n",
              "\n",
              "[5 rows x 29 columns]"
            ]
          },
          "execution_count": 41,
          "metadata": {},
          "output_type": "execute_result"
        }
      ],
      "source": [
        "movie_encoded = pd.concat([movie, genre_encoded_df], axis=1).drop('Genres', axis=1)\n",
        "movie_encoded.head()"
      ]
    },
    {
      "cell_type": "code",
      "execution_count": 42,
      "metadata": {
        "colab": {
          "base_uri": "https://localhost:8080/"
        },
        "id": "pnm8CshSZBIB",
        "outputId": "cf90b726-2e3a-4561-be41-0ccfaeabbeec"
      },
      "outputs": [
        {
          "name": "stdout",
          "output_type": "stream",
          "text": [
            "<class 'pandas.core.frame.DataFrame'>\n",
            "Index: 2903 entries, 0 to 1928\n",
            "Data columns (total 29 columns):\n",
            " #   Column        Non-Null Count  Dtype         \n",
            "---  ------        --------------  -----         \n",
            " 0   Movie_Name    1930 non-null   object        \n",
            " 1   Release_Date  1930 non-null   datetime64[ns]\n",
            " 2   Language      1930 non-null   object        \n",
            " 3   Budget        1930 non-null   float64       \n",
            " 4   Revenue       1930 non-null   float64       \n",
            " 5   Runtime       1930 non-null   float64       \n",
            " 6   year          1930 non-null   float64       \n",
            " 7   profit        1930 non-null   float64       \n",
            " 8   Action        1930 non-null   float64       \n",
            " 9   Adventure     1930 non-null   float64       \n",
            " 10  Animation     1930 non-null   float64       \n",
            " 11  Comedy        1930 non-null   float64       \n",
            " 12  Crime         1930 non-null   float64       \n",
            " 13  Documentary   1930 non-null   float64       \n",
            " 14  Drama         1930 non-null   float64       \n",
            " 15  Family        1930 non-null   float64       \n",
            " 16  Fantasy       1930 non-null   float64       \n",
            " 17  Fiction       1930 non-null   float64       \n",
            " 18  History       1930 non-null   float64       \n",
            " 19  Horror        1930 non-null   float64       \n",
            " 20  Movie         1930 non-null   float64       \n",
            " 21  Music         1930 non-null   float64       \n",
            " 22  Mystery       1930 non-null   float64       \n",
            " 23  Romance       1930 non-null   float64       \n",
            " 24  Science       1930 non-null   float64       \n",
            " 25  TV            1930 non-null   float64       \n",
            " 26  Thriller      1930 non-null   float64       \n",
            " 27  War           1930 non-null   float64       \n",
            " 28  Western       1930 non-null   float64       \n",
            "dtypes: datetime64[ns](1), float64(26), object(2)\n",
            "memory usage: 680.4+ KB\n"
          ]
        }
      ],
      "source": [
        "movie_encoded.info()"
      ]
    },
    {
      "cell_type": "code",
      "execution_count": 43,
      "metadata": {
        "id": "DeLX7glUaP5K"
      },
      "outputs": [],
      "source": [
        "# Menggabungkan profit dengan genre\n",
        "genre_profit_df = movie_encoded.melt(id_vars=['profit', 'Budget','Revenue'], value_vars=mlb.classes_, var_name='Genre', value_name='Is_Genre')\n",
        "# Filter rows where Is_Genre is 1\n",
        "genre_profit_df = genre_profit_df[genre_profit_df['Is_Genre'] == 1]\n"
      ]
    },
    {
      "cell_type": "code",
      "execution_count": 44,
      "metadata": {
        "colab": {
          "base_uri": "https://localhost:8080/",
          "height": 423
        },
        "id": "dcty9iWtaxgV",
        "outputId": "bdb5e2cb-f5e3-4181-f423-92ff7bbd4b52"
      },
      "outputs": [
        {
          "data": {
            "text/html": [
              "<div>\n",
              "<style scoped>\n",
              "    .dataframe tbody tr th:only-of-type {\n",
              "        vertical-align: middle;\n",
              "    }\n",
              "\n",
              "    .dataframe tbody tr th {\n",
              "        vertical-align: top;\n",
              "    }\n",
              "\n",
              "    .dataframe thead th {\n",
              "        text-align: right;\n",
              "    }\n",
              "</style>\n",
              "<table border=\"1\" class=\"dataframe\">\n",
              "  <thead>\n",
              "    <tr style=\"text-align: right;\">\n",
              "      <th></th>\n",
              "      <th>profit</th>\n",
              "      <th>Budget</th>\n",
              "      <th>Revenue</th>\n",
              "      <th>Genre</th>\n",
              "      <th>Is_Genre</th>\n",
              "    </tr>\n",
              "  </thead>\n",
              "  <tbody>\n",
              "    <tr>\n",
              "      <th>0</th>\n",
              "      <td>5.850000e+10</td>\n",
              "      <td>2.500000e+10</td>\n",
              "      <td>8.350000e+10</td>\n",
              "      <td>Action</td>\n",
              "      <td>1.0</td>\n",
              "    </tr>\n",
              "    <tr>\n",
              "      <th>2</th>\n",
              "      <td>1.460000e+10</td>\n",
              "      <td>1.200000e+09</td>\n",
              "      <td>1.580000e+10</td>\n",
              "      <td>Action</td>\n",
              "      <td>1.0</td>\n",
              "    </tr>\n",
              "    <tr>\n",
              "      <th>3</th>\n",
              "      <td>1.716000e+11</td>\n",
              "      <td>4.600000e+10</td>\n",
              "      <td>2.176000e+11</td>\n",
              "      <td>Action</td>\n",
              "      <td>1.0</td>\n",
              "    </tr>\n",
              "    <tr>\n",
              "      <th>8</th>\n",
              "      <td>-3.588904e+09</td>\n",
              "      <td>7.800000e+09</td>\n",
              "      <td>4.211096e+09</td>\n",
              "      <td>Action</td>\n",
              "      <td>1.0</td>\n",
              "    </tr>\n",
              "    <tr>\n",
              "      <th>9</th>\n",
              "      <td>4.000000e+08</td>\n",
              "      <td>2.500000e+09</td>\n",
              "      <td>2.900000e+09</td>\n",
              "      <td>Action</td>\n",
              "      <td>1.0</td>\n",
              "    </tr>\n",
              "    <tr>\n",
              "      <th>...</th>\n",
              "      <td>...</td>\n",
              "      <td>...</td>\n",
              "      <td>...</td>\n",
              "      <td>...</td>\n",
              "      <td>...</td>\n",
              "    </tr>\n",
              "    <tr>\n",
              "      <th>60708</th>\n",
              "      <td>NaN</td>\n",
              "      <td>NaN</td>\n",
              "      <td>NaN</td>\n",
              "      <td>Western</td>\n",
              "      <td>1.0</td>\n",
              "    </tr>\n",
              "    <tr>\n",
              "      <th>60775</th>\n",
              "      <td>NaN</td>\n",
              "      <td>NaN</td>\n",
              "      <td>NaN</td>\n",
              "      <td>Western</td>\n",
              "      <td>1.0</td>\n",
              "    </tr>\n",
              "    <tr>\n",
              "      <th>60794</th>\n",
              "      <td>NaN</td>\n",
              "      <td>NaN</td>\n",
              "      <td>NaN</td>\n",
              "      <td>Western</td>\n",
              "      <td>1.0</td>\n",
              "    </tr>\n",
              "    <tr>\n",
              "      <th>60878</th>\n",
              "      <td>NaN</td>\n",
              "      <td>NaN</td>\n",
              "      <td>NaN</td>\n",
              "      <td>Western</td>\n",
              "      <td>1.0</td>\n",
              "    </tr>\n",
              "    <tr>\n",
              "      <th>60938</th>\n",
              "      <td>NaN</td>\n",
              "      <td>NaN</td>\n",
              "      <td>NaN</td>\n",
              "      <td>Western</td>\n",
              "      <td>1.0</td>\n",
              "    </tr>\n",
              "  </tbody>\n",
              "</table>\n",
              "<p>5824 rows × 5 columns</p>\n",
              "</div>"
            ],
            "text/plain": [
              "             profit        Budget       Revenue    Genre  Is_Genre\n",
              "0      5.850000e+10  2.500000e+10  8.350000e+10   Action       1.0\n",
              "2      1.460000e+10  1.200000e+09  1.580000e+10   Action       1.0\n",
              "3      1.716000e+11  4.600000e+10  2.176000e+11   Action       1.0\n",
              "8     -3.588904e+09  7.800000e+09  4.211096e+09   Action       1.0\n",
              "9      4.000000e+08  2.500000e+09  2.900000e+09   Action       1.0\n",
              "...             ...           ...           ...      ...       ...\n",
              "60708           NaN           NaN           NaN  Western       1.0\n",
              "60775           NaN           NaN           NaN  Western       1.0\n",
              "60794           NaN           NaN           NaN  Western       1.0\n",
              "60878           NaN           NaN           NaN  Western       1.0\n",
              "60938           NaN           NaN           NaN  Western       1.0\n",
              "\n",
              "[5824 rows x 5 columns]"
            ]
          },
          "execution_count": 44,
          "metadata": {},
          "output_type": "execute_result"
        }
      ],
      "source": [
        "genre_profit_df"
      ]
    },
    {
      "cell_type": "code",
      "execution_count": 45,
      "metadata": {
        "colab": {
          "base_uri": "https://localhost:8080/",
          "height": 613
        },
        "id": "MbDxOk8jbCsc",
        "outputId": "70a90513-1358-400a-f032-87b43d9cf107"
      },
      "outputs": [
        {
          "data": {
            "text/html": [
              "<div>\n",
              "<style scoped>\n",
              "    .dataframe tbody tr th:only-of-type {\n",
              "        vertical-align: middle;\n",
              "    }\n",
              "\n",
              "    .dataframe tbody tr th {\n",
              "        vertical-align: top;\n",
              "    }\n",
              "\n",
              "    .dataframe thead th {\n",
              "        text-align: right;\n",
              "    }\n",
              "</style>\n",
              "<table border=\"1\" class=\"dataframe\">\n",
              "  <thead>\n",
              "    <tr style=\"text-align: right;\">\n",
              "      <th></th>\n",
              "      <th>Genre</th>\n",
              "      <th>profit</th>\n",
              "    </tr>\n",
              "  </thead>\n",
              "  <tbody>\n",
              "    <tr>\n",
              "      <th>0</th>\n",
              "      <td>Action</td>\n",
              "      <td>2.472947e+10</td>\n",
              "    </tr>\n",
              "    <tr>\n",
              "      <th>1</th>\n",
              "      <td>Adventure</td>\n",
              "      <td>2.296934e+10</td>\n",
              "    </tr>\n",
              "    <tr>\n",
              "      <th>2</th>\n",
              "      <td>Animation</td>\n",
              "      <td>2.810088e+10</td>\n",
              "    </tr>\n",
              "    <tr>\n",
              "      <th>3</th>\n",
              "      <td>Comedy</td>\n",
              "      <td>2.351975e+10</td>\n",
              "    </tr>\n",
              "    <tr>\n",
              "      <th>4</th>\n",
              "      <td>Crime</td>\n",
              "      <td>2.661650e+10</td>\n",
              "    </tr>\n",
              "    <tr>\n",
              "      <th>6</th>\n",
              "      <td>Drama</td>\n",
              "      <td>2.317615e+10</td>\n",
              "    </tr>\n",
              "    <tr>\n",
              "      <th>7</th>\n",
              "      <td>Family</td>\n",
              "      <td>2.376737e+10</td>\n",
              "    </tr>\n",
              "    <tr>\n",
              "      <th>8</th>\n",
              "      <td>Fantasy</td>\n",
              "      <td>2.432209e+10</td>\n",
              "    </tr>\n",
              "    <tr>\n",
              "      <th>9</th>\n",
              "      <td>Fiction</td>\n",
              "      <td>2.716523e+10</td>\n",
              "    </tr>\n",
              "    <tr>\n",
              "      <th>10</th>\n",
              "      <td>History</td>\n",
              "      <td>2.364971e+10</td>\n",
              "    </tr>\n",
              "    <tr>\n",
              "      <th>11</th>\n",
              "      <td>Horror</td>\n",
              "      <td>2.005445e+10</td>\n",
              "    </tr>\n",
              "    <tr>\n",
              "      <th>13</th>\n",
              "      <td>Music</td>\n",
              "      <td>2.346248e+10</td>\n",
              "    </tr>\n",
              "    <tr>\n",
              "      <th>14</th>\n",
              "      <td>Mystery</td>\n",
              "      <td>2.651120e+10</td>\n",
              "    </tr>\n",
              "    <tr>\n",
              "      <th>15</th>\n",
              "      <td>Romance</td>\n",
              "      <td>2.095392e+10</td>\n",
              "    </tr>\n",
              "    <tr>\n",
              "      <th>16</th>\n",
              "      <td>Science</td>\n",
              "      <td>2.716523e+10</td>\n",
              "    </tr>\n",
              "    <tr>\n",
              "      <th>18</th>\n",
              "      <td>Thriller</td>\n",
              "      <td>2.541301e+10</td>\n",
              "    </tr>\n",
              "    <tr>\n",
              "      <th>19</th>\n",
              "      <td>War</td>\n",
              "      <td>2.676972e+10</td>\n",
              "    </tr>\n",
              "    <tr>\n",
              "      <th>20</th>\n",
              "      <td>Western</td>\n",
              "      <td>2.559805e+10</td>\n",
              "    </tr>\n",
              "  </tbody>\n",
              "</table>\n",
              "</div>"
            ],
            "text/plain": [
              "        Genre        profit\n",
              "0      Action  2.472947e+10\n",
              "1   Adventure  2.296934e+10\n",
              "2   Animation  2.810088e+10\n",
              "3      Comedy  2.351975e+10\n",
              "4       Crime  2.661650e+10\n",
              "6       Drama  2.317615e+10\n",
              "7      Family  2.376737e+10\n",
              "8     Fantasy  2.432209e+10\n",
              "9     Fiction  2.716523e+10\n",
              "10    History  2.364971e+10\n",
              "11     Horror  2.005445e+10\n",
              "13      Music  2.346248e+10\n",
              "14    Mystery  2.651120e+10\n",
              "15    Romance  2.095392e+10\n",
              "16    Science  2.716523e+10\n",
              "18   Thriller  2.541301e+10\n",
              "19        War  2.676972e+10\n",
              "20    Western  2.559805e+10"
            ]
          },
          "execution_count": 45,
          "metadata": {},
          "output_type": "execute_result"
        }
      ],
      "source": [
        "avg_genre_profit = genre_profit_df.groupby('Genre')['profit'].mean().reset_index()\n",
        "avg_genre_profit = avg_genre_profit.dropna()\n",
        "avg_genre_profit = avg_genre_profit[~avg_genre_profit['Genre'].apply(lambda x: 'TV' in x or 'Movie' in x)]\n",
        "avg_genre_profit"
      ]
    },
    {
      "cell_type": "code",
      "execution_count": 46,
      "metadata": {
        "colab": {
          "base_uri": "https://localhost:8080/",
          "height": 765
        },
        "id": "2Um9Tc1AbLYf",
        "outputId": "7d6c1c9d-563f-49f6-9272-b3794b98f347"
      },
      "outputs": [
        {
          "data": {
            "image/png": "[encoded data removed]",
            "text/plain": [
              "<Figure size 1200x800 with 1 Axes>"
            ]
          },
          "metadata": {},
          "output_type": "display_data"
        }
      ],
      "source": [
        "plt.figure(figsize=(12, 8))  # Mengatur lebar dan tinggi plot\n",
        "sns.scatterplot(data=avg_genre_profit, x='Genre', y='profit')\n",
        "\n",
        "plt.title('Rata-Rata Profit per Genre')\n",
        "plt.xlabel('Genre')\n",
        "plt.ylabel('Rata-Rata Profit')\n",
        "\n",
        "# Memiringkan label sumbu x\n",
        "plt.xticks(rotation=45, ha='right')\n",
        "\n",
        "# Menampilkan plot\n",
        "plt.grid(True)\n",
        "plt.show()"
      ]
    },
    {
      "cell_type": "code",
      "execution_count": 47,
      "metadata": {
        "colab": {
          "base_uri": "https://localhost:8080/",
          "height": 613
        },
        "id": "fWXAiBeweDMF",
        "outputId": "34bfe96e-36d5-462d-a0de-5183fd33f91c"
      },
      "outputs": [
        {
          "data": {
            "text/html": [
              "<div>\n",
              "<style scoped>\n",
              "    .dataframe tbody tr th:only-of-type {\n",
              "        vertical-align: middle;\n",
              "    }\n",
              "\n",
              "    .dataframe tbody tr th {\n",
              "        vertical-align: top;\n",
              "    }\n",
              "\n",
              "    .dataframe thead th {\n",
              "        text-align: right;\n",
              "    }\n",
              "</style>\n",
              "<table border=\"1\" class=\"dataframe\">\n",
              "  <thead>\n",
              "    <tr style=\"text-align: right;\">\n",
              "      <th></th>\n",
              "      <th>Genre</th>\n",
              "      <th>Budget</th>\n",
              "    </tr>\n",
              "  </thead>\n",
              "  <tbody>\n",
              "    <tr>\n",
              "      <th>0</th>\n",
              "      <td>Action</td>\n",
              "      <td>8.228409e+09</td>\n",
              "    </tr>\n",
              "    <tr>\n",
              "      <th>1</th>\n",
              "      <td>Adventure</td>\n",
              "      <td>7.573091e+09</td>\n",
              "    </tr>\n",
              "    <tr>\n",
              "      <th>2</th>\n",
              "      <td>Animation</td>\n",
              "      <td>8.609906e+09</td>\n",
              "    </tr>\n",
              "    <tr>\n",
              "      <th>3</th>\n",
              "      <td>Comedy</td>\n",
              "      <td>7.470885e+09</td>\n",
              "    </tr>\n",
              "    <tr>\n",
              "      <th>4</th>\n",
              "      <td>Crime</td>\n",
              "      <td>8.225224e+09</td>\n",
              "    </tr>\n",
              "    <tr>\n",
              "      <th>6</th>\n",
              "      <td>Drama</td>\n",
              "      <td>7.655158e+09</td>\n",
              "    </tr>\n",
              "    <tr>\n",
              "      <th>7</th>\n",
              "      <td>Family</td>\n",
              "      <td>8.049866e+09</td>\n",
              "    </tr>\n",
              "    <tr>\n",
              "      <th>8</th>\n",
              "      <td>Fantasy</td>\n",
              "      <td>8.101185e+09</td>\n",
              "    </tr>\n",
              "    <tr>\n",
              "      <th>9</th>\n",
              "      <td>Fiction</td>\n",
              "      <td>8.856013e+09</td>\n",
              "    </tr>\n",
              "    <tr>\n",
              "      <th>10</th>\n",
              "      <td>History</td>\n",
              "      <td>7.005359e+09</td>\n",
              "    </tr>\n",
              "    <tr>\n",
              "      <th>11</th>\n",
              "      <td>Horror</td>\n",
              "      <td>7.422466e+09</td>\n",
              "    </tr>\n",
              "    <tr>\n",
              "      <th>13</th>\n",
              "      <td>Music</td>\n",
              "      <td>7.387173e+09</td>\n",
              "    </tr>\n",
              "    <tr>\n",
              "      <th>14</th>\n",
              "      <td>Mystery</td>\n",
              "      <td>6.930046e+09</td>\n",
              "    </tr>\n",
              "    <tr>\n",
              "      <th>15</th>\n",
              "      <td>Romance</td>\n",
              "      <td>6.849523e+09</td>\n",
              "    </tr>\n",
              "    <tr>\n",
              "      <th>16</th>\n",
              "      <td>Science</td>\n",
              "      <td>8.856013e+09</td>\n",
              "    </tr>\n",
              "    <tr>\n",
              "      <th>18</th>\n",
              "      <td>Thriller</td>\n",
              "      <td>8.182574e+09</td>\n",
              "    </tr>\n",
              "    <tr>\n",
              "      <th>19</th>\n",
              "      <td>War</td>\n",
              "      <td>8.287323e+09</td>\n",
              "    </tr>\n",
              "    <tr>\n",
              "      <th>20</th>\n",
              "      <td>Western</td>\n",
              "      <td>7.880109e+09</td>\n",
              "    </tr>\n",
              "  </tbody>\n",
              "</table>\n",
              "</div>"
            ],
            "text/plain": [
              "        Genre        Budget\n",
              "0      Action  8.228409e+09\n",
              "1   Adventure  7.573091e+09\n",
              "2   Animation  8.609906e+09\n",
              "3      Comedy  7.470885e+09\n",
              "4       Crime  8.225224e+09\n",
              "6       Drama  7.655158e+09\n",
              "7      Family  8.049866e+09\n",
              "8     Fantasy  8.101185e+09\n",
              "9     Fiction  8.856013e+09\n",
              "10    History  7.005359e+09\n",
              "11     Horror  7.422466e+09\n",
              "13      Music  7.387173e+09\n",
              "14    Mystery  6.930046e+09\n",
              "15    Romance  6.849523e+09\n",
              "16    Science  8.856013e+09\n",
              "18   Thriller  8.182574e+09\n",
              "19        War  8.287323e+09\n",
              "20    Western  7.880109e+09"
            ]
          },
          "execution_count": 47,
          "metadata": {},
          "output_type": "execute_result"
        }
      ],
      "source": [
        "avg_genre_Budget = genre_profit_df.groupby('Genre')['Budget'].mean().reset_index()\n",
        "avg_genre_Budget = avg_genre_Budget.dropna()\n",
        "avg_genre_Budget = avg_genre_Budget[~avg_genre_Budget['Genre'].apply(lambda x: 'TV' in x or 'Movie' in x)]\n",
        "avg_genre_Budget"
      ]
    },
    {
      "cell_type": "code",
      "execution_count": 48,
      "metadata": {
        "colab": {
          "base_uri": "https://localhost:8080/",
          "height": 765
        },
        "id": "UF70FVx_dalU",
        "outputId": "d4b4fdea-ff73-4a98-88c7-24bddd1ba61d"
      },
      "outputs": [
        {
          "data": {
            "image/png": "[encoded data removed]",
            "text/plain": [
              "<Figure size 1200x800 with 1 Axes>"
            ]
          },
          "metadata": {},
          "output_type": "display_data"
        }
      ],
      "source": [
        "plt.figure(figsize=(12, 8))  # Mengatur lebar dan tinggi plot\n",
        "sns.scatterplot(data=avg_genre_Budget, x='Genre', y='Budget')\n",
        "\n",
        "plt.title('Rata-Rata Budget per Genre')\n",
        "plt.xlabel('Genre')\n",
        "plt.ylabel('Rata-Rata Budget')\n",
        "\n",
        "# Memiringkan label sumbu x\n",
        "plt.xticks(rotation=45, ha='right')\n",
        "\n",
        "# Menampilkan plot\n",
        "plt.grid(True)\n",
        "plt.show()"
      ]
    },
    {
      "cell_type": "code",
      "execution_count": 49,
      "metadata": {
        "colab": {
          "base_uri": "https://localhost:8080/",
          "height": 765
        },
        "id": "e8gxOethfIBo",
        "outputId": "18106f18-f2f5-4f6e-a707-cc61fda1aad3"
      },
      "outputs": [
        {
          "data": {
            "image/png": "[encoded data removed]",
            "text/plain": [
              "<Figure size 1200x800 with 1 Axes>"
            ]
          },
          "metadata": {},
          "output_type": "display_data"
        }
      ],
      "source": [
        "avg_genre_Revenue = genre_profit_df.groupby('Genre')['Revenue'].mean().reset_index()\n",
        "avg_genre_Revenue = avg_genre_Revenue.dropna()\n",
        "avg_genre_Revenue = avg_genre_Revenue[~avg_genre_Revenue['Genre'].apply(lambda x: 'TV' in x or 'Movie' in x)]\\\n",
        "\n",
        "plt.figure(figsize=(12, 8))  # Mengatur lebar dan tinggi plot\n",
        "sns.scatterplot(data=avg_genre_Revenue, x='Genre', y='Revenue')\n",
        "\n",
        "plt.title('Rata-Rata Revenue per Genre')\n",
        "plt.xlabel('Genre')\n",
        "plt.ylabel('Rata-Rata Revenue')\n",
        "\n",
        "# Memiringkan label sumbu x\n",
        "plt.xticks(rotation=45, ha='right')\n",
        "\n",
        "# Menampilkan plot\n",
        "plt.grid(True)\n",
        "plt.show()"
      ]
    },
    {
      "cell_type": "markdown",
      "metadata": {
        "id": "V6Ftb5agn3dC"
      },
      "source": [
        "# Model Machine Learning"
      ]
    },
    {
      "cell_type": "markdown",
      "metadata": {
        "id": "XbEdjcN4pZou"
      },
      "source": [
        "### PERSIAPAN DATA"
      ]
    },
    {
      "cell_type": "code",
      "execution_count": 50,
      "metadata": {
        "colab": {
          "base_uri": "https://localhost:8080/"
        },
        "id": "zgqjuJQzeh9B",
        "outputId": "a3ac5588-798f-44c3-f6ec-335c97200391"
      },
      "outputs": [
        {
          "data": {
            "text/plain": [
              "Index(['Movie_Name', 'Release_Date', 'Language', 'Budget', 'Revenue',\n",
              "       'Runtime', 'year', 'profit', 'Action', 'Adventure', 'Animation',\n",
              "       'Comedy', 'Crime', 'Documentary', 'Drama', 'Family', 'Fantasy',\n",
              "       'Fiction', 'History', 'Horror', 'Movie', 'Music', 'Mystery', 'Romance',\n",
              "       'Science', 'TV', 'Thriller', 'War', 'Western'],\n",
              "      dtype='object')"
            ]
          },
          "execution_count": 50,
          "metadata": {},
          "output_type": "execute_result"
        }
      ],
      "source": [
        "movie_encoded.columns"
      ]
    },
    {
      "cell_type": "code",
      "execution_count": 51,
      "metadata": {
        "id": "BcrwNQqDoscn"
      },
      "outputs": [],
      "source": [
        "movie_drop = movie_encoded.dropna()\n",
        "X = movie_drop.drop(['Revenue'], axis=1)\n",
        "X = X.select_dtypes(include=['int64', 'float64'])\n",
        "y = movie_drop['Revenue']"
      ]
    },
    {
      "cell_type": "code",
      "execution_count": 52,
      "metadata": {
        "colab": {
          "base_uri": "https://localhost:8080/"
        },
        "id": "d7VS_LunrOSs",
        "outputId": "ddadd5e7-06ee-45b3-98e3-ac7b38993c4b"
      },
      "outputs": [
        {
          "name": "stdout",
          "output_type": "stream",
          "text": [
            "<class 'pandas.core.frame.DataFrame'>\n",
            "Index: 957 entries, 0 to 1929\n",
            "Data columns (total 25 columns):\n",
            " #   Column       Non-Null Count  Dtype  \n",
            "---  ------       --------------  -----  \n",
            " 0   Budget       957 non-null    float64\n",
            " 1   Runtime      957 non-null    float64\n",
            " 2   year         957 non-null    float64\n",
            " 3   profit       957 non-null    float64\n",
            " 4   Action       957 non-null    float64\n",
            " 5   Adventure    957 non-null    float64\n",
            " 6   Animation    957 non-null    float64\n",
            " 7   Comedy       957 non-null    float64\n",
            " 8   Crime        957 non-null    float64\n",
            " 9   Documentary  957 non-null    float64\n",
            " 10  Drama        957 non-null    float64\n",
            " 11  Family       957 non-null    float64\n",
            " 12  Fantasy      957 non-null    float64\n",
            " 13  Fiction      957 non-null    float64\n",
            " 14  History      957 non-null    float64\n",
            " 15  Horror       957 non-null    float64\n",
            " 16  Movie        957 non-null    float64\n",
            " 17  Music        957 non-null    float64\n",
            " 18  Mystery      957 non-null    float64\n",
            " 19  Romance      957 non-null    float64\n",
            " 20  Science      957 non-null    float64\n",
            " 21  TV           957 non-null    float64\n",
            " 22  Thriller     957 non-null    float64\n",
            " 23  War          957 non-null    float64\n",
            " 24  Western      957 non-null    float64\n",
            "dtypes: float64(25)\n",
            "memory usage: 194.4 KB\n"
          ]
        }
      ],
      "source": [
        "X.info()"
      ]
    },
    {
      "cell_type": "markdown",
      "metadata": {
        "id": "m4DrrFK-sszW"
      },
      "source": [
        "### LINIEAR REGRESSION"
      ]
    },
    {
      "cell_type": "code",
      "execution_count": 53,
      "metadata": {
        "colab": {
          "base_uri": "https://localhost:8080/"
        },
        "id": "iE1EUBj9pTSP",
        "outputId": "7b1fbc32-136e-476f-c25c-3e9f6c8f6344"
      },
      "outputs": [
        {
          "name": "stdout",
          "output_type": "stream",
          "text": [
            "Mean Absolute Error: 1.4220931916497648e-05\n",
            "R-squared: 1.0\n"
          ]
        }
      ],
      "source": [
        "from sklearn.model_selection import train_test_split\n",
        "from sklearn.linear_model import LinearRegression\n",
        "from sklearn.metrics import mean_absolute_error, r2_score\n",
        "\n",
        "# Membagi data menjadi data pelatihan dan pengujian\n",
        "X_train, X_test, y_train, y_test = train_test_split(X, y, test_size=0.2, random_state=42)\n",
        "\n",
        "# Membuat dan melatih model regresi linear\n",
        "model = LinearRegression()\n",
        "model.fit(X_train, y_train)\n",
        "\n",
        "# Melakukan prediksi pada data uji\n",
        "y_pred = model.predict(X_test)\n",
        "\n",
        "# Mengevaluasi model\n",
        "mae = mean_absolute_error(y_test, y_pred)\n",
        "r2 = r2_score(y_test, y_pred)\n",
        "\n",
        "print(f'Mean Absolute Error: {mae}')\n",
        "print(f'R-squared: {r2}')\n"
      ]
    },
    {
      "cell_type": "code",
      "execution_count": 54,
      "metadata": {
        "colab": {
          "base_uri": "https://localhost:8080/"
        },
        "id": "r4sAb0UjfmV1",
        "outputId": "8012fc12-b2d2-4fee-c765-2f46cfd7ade8"
      },
      "outputs": [
        {
          "name": "stdout",
          "output_type": "stream",
          "text": [
            "Predicted Revenue LinearRegression: 702023.0000174529\n"
          ]
        }
      ],
      "source": [
        "# Contoh data film baru\n",
        "new_data = pd.DataFrame({\n",
        "    'Budget': [700000],\n",
        "    'Runtime': [125],\n",
        "    'year': [2023],\n",
        "    'profit': [2023],\n",
        "    'Action': [1],\n",
        "    'Adventure': [1],\n",
        "    'Animation': [0],\n",
        "    'Comedy': [0],\n",
        "    'Crime': [0],\n",
        "    'Documentary': [0],\n",
        "    'Drama': [0],\n",
        "    'Family': [0],\n",
        "    'Fantasy': [0],\n",
        "    'Fiction': [0],\n",
        "    'History': [0],\n",
        "    'Horror': [0],\n",
        "    'Movie': [0],\n",
        "    'Music': [0],\n",
        "    'Mystery': [0],\n",
        "    'Romance': [0],\n",
        "    'Science': [0],\n",
        "    'TV': [0],\n",
        "    'Thriller': [0],\n",
        "    'War': [0],\n",
        "    'Western': [0],\n",
        "})\n",
        "\n",
        "# Prediksi revenue\n",
        "predicted_revenue = model.predict(new_data)\n",
        "print(f'Predicted Revenue LinearRegression: {predicted_revenue[0]}')\n"
      ]
    },
    {
      "cell_type": "markdown",
      "metadata": {
        "id": "hNwJjETwtwsq"
      },
      "source": [
        "### RandomForest"
      ]
    },
    {
      "cell_type": "code",
      "execution_count": 55,
      "metadata": {
        "colab": {
          "base_uri": "https://localhost:8080/"
        },
        "id": "1vTFgq35tzO5",
        "outputId": "84c075ec-9b51-47ff-fc66-845f6ed5cfbb"
      },
      "outputs": [
        {
          "name": "stdout",
          "output_type": "stream",
          "text": [
            "Mean Absolute Error: 914245551.546875\n",
            "R-squared: 0.9973911953222881\n"
          ]
        }
      ],
      "source": [
        "from sklearn.ensemble import RandomForestRegressor\n",
        "# Membuat dan melatih model Random Forest Regressor\n",
        "model_rfr = RandomForestRegressor(n_estimators=100, random_state=42)\n",
        "model_rfr.fit(X_train, y_train)\n",
        "\n",
        "# Melakukan prediksi pada data uji\n",
        "y_pred = model_rfr.predict(X_test)\n",
        "\n",
        "# Mengevaluasi model\n",
        "mae = mean_absolute_error(y_test, y_pred)\n",
        "r2 = r2_score(y_test, y_pred)\n",
        "\n",
        "print(f'Mean Absolute Error: {mae}')\n",
        "print(f'R-squared: {r2}')"
      ]
    },
    {
      "cell_type": "code",
      "execution_count": 56,
      "metadata": {
        "colab": {
          "base_uri": "https://localhost:8080/"
        },
        "id": "5Lfspl5Ut-e_",
        "outputId": "4e6f5216-3db4-4f19-9727-2fe742e1f065"
      },
      "outputs": [
        {
          "name": "stdout",
          "output_type": "stream",
          "text": [
            "Predicted Revenue menggunakan model RandomForestRegressor: 472179830.0\n"
          ]
        }
      ],
      "source": [
        "# Contoh data film baru\n",
        "new_data = pd.DataFrame({\n",
        "    'Budget': [700000],\n",
        "    'Runtime': [125],\n",
        "    'year': [2023],\n",
        "    'profit': [2023],\n",
        "    'Action': [1],\n",
        "    'Adventure': [1],\n",
        "    'Animation': [0],\n",
        "    'Comedy': [0],\n",
        "    'Crime': [0],\n",
        "    'Documentary': [0],\n",
        "    'Drama': [0],\n",
        "    'Family': [0],\n",
        "    'Fantasy': [0],\n",
        "    'Fiction': [0],\n",
        "    'History': [0],\n",
        "    'Horror': [0],\n",
        "    'Movie': [0],\n",
        "    'Music': [0],\n",
        "    'Mystery': [0],\n",
        "    'Romance': [0],\n",
        "    'Science': [0],\n",
        "    'TV': [0],\n",
        "    'Thriller': [0],\n",
        "    'War': [0],\n",
        "    'Western': [0],\n",
        "})\n",
        "\n",
        "# Prediksi revenue\n",
        "predicted_revenue = model_rfr.predict(new_data)\n",
        "print(f'Predicted Revenue menggunakan model RandomForestRegressor: {predicted_revenue[0]}')\n"
      ]
    },
    {
      "cell_type": "markdown",
      "metadata": {
        "id": "YyCWGuuJuX9V"
      },
      "source": [
        "### GradientBoostingRegressor"
      ]
    },
    {
      "cell_type": "code",
      "execution_count": 57,
      "metadata": {
        "colab": {
          "base_uri": "https://localhost:8080/"
        },
        "id": "Eb7lIzgUuX9V",
        "outputId": "855e9689-5ee9-41cd-f46f-96d1b423c6ac"
      },
      "outputs": [
        {
          "name": "stdout",
          "output_type": "stream",
          "text": [
            "Mean Absolute Error: 919996635.5936189\n",
            "R-squared: 0.9978171288498326\n"
          ]
        }
      ],
      "source": [
        "from sklearn.ensemble import GradientBoostingRegressor\n",
        "# Membuat dan melatih model Random Forest Regressor\n",
        "model_gbr = GradientBoostingRegressor(n_estimators=100, random_state=42)\n",
        "model_gbr.fit(X_train, y_train)\n",
        "\n",
        "# Melakukan prediksi pada data uji\n",
        "y_pred = model_gbr.predict(X_test)\n",
        "\n",
        "# Mengevaluasi model\n",
        "mae = mean_absolute_error(y_test, y_pred)\n",
        "r2 = r2_score(y_test, y_pred)\n",
        "\n",
        "print(f'Mean Absolute Error: {mae}')\n",
        "print(f'R-squared: {r2}')"
      ]
    },
    {
      "cell_type": "code",
      "execution_count": 58,
      "metadata": {
        "colab": {
          "base_uri": "https://localhost:8080/"
        },
        "id": "HcNq2qIyuX9V",
        "outputId": "e7a4c0e5-0b66-44bf-be8c-6533d111fe58"
      },
      "outputs": [
        {
          "name": "stdout",
          "output_type": "stream",
          "text": [
            "Predicted Revenue menggunakan model GradientBoostingRegressor: 324947918.2910786\n"
          ]
        }
      ],
      "source": [
        "# Contoh data film baru\n",
        "new_data = pd.DataFrame({\n",
        "    'Budget': [700000],\n",
        "    'Runtime': [125],\n",
        "    'year': [2023],\n",
        "    'profit': [2023],\n",
        "    'Action': [1],\n",
        "    'Adventure': [1],\n",
        "    'Animation': [0],\n",
        "    'Comedy': [0],\n",
        "    'Crime': [0],\n",
        "    'Documentary': [0],\n",
        "    'Drama': [0],\n",
        "    'Family': [0],\n",
        "    'Fantasy': [0],\n",
        "    'Fiction': [0],\n",
        "    'History': [0],\n",
        "    'Horror': [0],\n",
        "    'Movie': [0],\n",
        "    'Music': [0],\n",
        "    'Mystery': [0],\n",
        "    'Romance': [0],\n",
        "    'Science': [0],\n",
        "    'TV': [0],\n",
        "    'Thriller': [0],\n",
        "    'War': [0],\n",
        "    'Western': [0],\n",
        "})\n",
        "\n",
        "# Prediksi revenue\n",
        "predicted_revenue = model_gbr.predict(new_data)\n",
        "print(f'Predicted Revenue menggunakan model GradientBoostingRegressor: {predicted_revenue[0]}')\n"
      ]
    }
  ],
  "metadata": {
    "colab": {
      "provenance": [],
      "toc_visible": true
    },
    "kernelspec": {
      "display_name": "Python 3",
      "name": "python3"
    },
    "language_info": {
      "codemirror_mode": {
        "name": "ipython",
        "version": 3
      },
      "file_extension": ".py",
      "mimetype": "text/x-python",
      "name": "python",
      "nbconvert_exporter": "python",
      "pygments_lexer": "ipython3",
      "version": "3.12.3"
    }
  },
  "nbformat": 4,
  "nbformat_minor": 0
}
